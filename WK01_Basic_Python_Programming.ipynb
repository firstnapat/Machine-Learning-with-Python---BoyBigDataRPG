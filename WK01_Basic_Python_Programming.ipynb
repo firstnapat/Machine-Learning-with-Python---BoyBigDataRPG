{
  "nbformat": 4,
  "nbformat_minor": 0,
  "metadata": {
    "colab": {
      "name": "WK01 - Basic Python Programming.ipynb",
      "provenance": [],
      "collapsed_sections": [],
      "include_colab_link": true
    },
    "kernelspec": {
      "name": "python3",
      "display_name": "Python 3"
    },
    "language_info": {
      "name": "python"
    }
  },
  "cells": [
    {
      "cell_type": "markdown",
      "metadata": {
        "id": "view-in-github",
        "colab_type": "text"
      },
      "source": [
        "<a href=\"https://colab.research.google.com/github/firstnapat/Machine-Learning-with-Python---BoyBigDataRPG/blob/main/WK01_Basic_Python_Programming.ipynb\" target=\"_parent\"><img src=\"https://colab.research.google.com/assets/colab-badge.svg\" alt=\"Open In Colab\"/></a>"
      ]
    },
    {
      "cell_type": "markdown",
      "source": [
        "<h1><center> WK01 - Basic Python Programming for New Data Scientist </center><h1/>\n",
        "\n",
        "<h3><center>  \"Road to Data Scientist with Machine Learning Projects #01\" </center><h3/>"
      ],
      "metadata": {
        "id": "5T7eVTriBdz_"
      }
    },
    {
      "cell_type": "markdown",
      "source": [
        "# Operator"
      ],
      "metadata": {
        "id": "d65qpQb-Bpov"
      }
    },
    {
      "cell_type": "code",
      "execution_count": 1,
      "metadata": {
        "id": "w9YsIr8wA-Hr",
        "colab": {
          "base_uri": "https://localhost:8080/"
        },
        "outputId": "4d51d941-6e38-4926-df1f-5d62143637e6"
      },
      "outputs": [
        {
          "output_type": "execute_result",
          "data": {
            "text/plain": [
              "20"
            ]
          },
          "metadata": {},
          "execution_count": 1
        }
      ],
      "source": [
        "2 + 3 * 6"
      ]
    },
    {
      "cell_type": "code",
      "source": [
        "(2 + 3) * 6"
      ],
      "metadata": {
        "id": "bp1u1HULBsOo",
        "colab": {
          "base_uri": "https://localhost:8080/"
        },
        "outputId": "a1de9ed5-9fd2-4b4f-d658-7f78b1a56f26"
      },
      "execution_count": 2,
      "outputs": [
        {
          "output_type": "execute_result",
          "data": {
            "text/plain": [
              "30"
            ]
          },
          "metadata": {},
          "execution_count": 2
        }
      ]
    },
    {
      "cell_type": "code",
      "source": [
        "2 ** 8"
      ],
      "metadata": {
        "id": "P3jPrgcOBtPk",
        "colab": {
          "base_uri": "https://localhost:8080/"
        },
        "outputId": "67e0baa7-8ada-436b-f564-feccdb64fd11"
      },
      "execution_count": 3,
      "outputs": [
        {
          "output_type": "execute_result",
          "data": {
            "text/plain": [
              "256"
            ]
          },
          "metadata": {},
          "execution_count": 3
        }
      ]
    },
    {
      "cell_type": "code",
      "source": [
        "23 / 7"
      ],
      "metadata": {
        "id": "sMkeBxUbBvLR",
        "colab": {
          "base_uri": "https://localhost:8080/"
        },
        "outputId": "fc9331b6-2a3a-49a7-9627-22319fa22ecc"
      },
      "execution_count": 4,
      "outputs": [
        {
          "output_type": "execute_result",
          "data": {
            "text/plain": [
              "3.2857142857142856"
            ]
          },
          "metadata": {},
          "execution_count": 4
        }
      ]
    },
    {
      "cell_type": "code",
      "source": [
        "23 // 7"
      ],
      "metadata": {
        "id": "cbd3eetlByJV",
        "colab": {
          "base_uri": "https://localhost:8080/"
        },
        "outputId": "5af92269-0234-46b3-9498-1823049f5ab7"
      },
      "execution_count": 5,
      "outputs": [
        {
          "output_type": "execute_result",
          "data": {
            "text/plain": [
              "3"
            ]
          },
          "metadata": {},
          "execution_count": 5
        }
      ]
    },
    {
      "cell_type": "code",
      "source": [
        "23 % 7"
      ],
      "metadata": {
        "id": "QeXDiD9SBy5e",
        "colab": {
          "base_uri": "https://localhost:8080/"
        },
        "outputId": "9a768881-33d7-4e43-c37c-71e37aa67cd0"
      },
      "execution_count": 6,
      "outputs": [
        {
          "output_type": "execute_result",
          "data": {
            "text/plain": [
              "2"
            ]
          },
          "metadata": {},
          "execution_count": 6
        }
      ]
    },
    {
      "cell_type": "markdown",
      "source": [
        "# Error"
      ],
      "metadata": {
        "id": "m4TgRLo5CgHN"
      }
    },
    {
      "cell_type": "code",
      "source": [
        "10 +"
      ],
      "metadata": {
        "id": "TPJJHLB-CigF",
        "colab": {
          "base_uri": "https://localhost:8080/",
          "height": 130
        },
        "outputId": "cff86d00-f9ee-4f03-e68f-54d709565c4d"
      },
      "execution_count": 7,
      "outputs": [
        {
          "output_type": "error",
          "ename": "SyntaxError",
          "evalue": "ignored",
          "traceback": [
            "\u001b[0;36m  File \u001b[0;32m\"<ipython-input-7-90c74e52a88f>\"\u001b[0;36m, line \u001b[0;32m1\u001b[0m\n\u001b[0;31m    10 +\u001b[0m\n\u001b[0m        ^\u001b[0m\n\u001b[0;31mSyntaxError\u001b[0m\u001b[0;31m:\u001b[0m invalid syntax\n"
          ]
        }
      ]
    },
    {
      "cell_type": "code",
      "source": [
        "40 + 5 + * 2"
      ],
      "metadata": {
        "id": "J7nb-y8QCibm",
        "colab": {
          "base_uri": "https://localhost:8080/",
          "height": 130
        },
        "outputId": "d3406df4-db29-4a7a-a6d9-7aa8123215b0"
      },
      "execution_count": 8,
      "outputs": [
        {
          "output_type": "error",
          "ename": "SyntaxError",
          "evalue": "ignored",
          "traceback": [
            "\u001b[0;36m  File \u001b[0;32m\"<ipython-input-8-ed878fdb87ac>\"\u001b[0;36m, line \u001b[0;32m1\u001b[0m\n\u001b[0;31m    40 + 5 + * 2\u001b[0m\n\u001b[0m             ^\u001b[0m\n\u001b[0;31mSyntaxError\u001b[0m\u001b[0;31m:\u001b[0m invalid syntax\n"
          ]
        }
      ]
    },
    {
      "cell_type": "markdown",
      "source": [
        "# Python Data Types"
      ],
      "metadata": {
        "id": "10QFEn4wB13u"
      }
    },
    {
      "cell_type": "markdown",
      "source": [
        "## Float"
      ],
      "metadata": {
        "id": "stpVV8b1B5_u"
      }
    },
    {
      "cell_type": "code",
      "source": [
        "(5 - 1) * ((7 + 1) / (3 - 1)) + 1 # Float"
      ],
      "metadata": {
        "id": "C2fLLOepB0iv",
        "colab": {
          "base_uri": "https://localhost:8080/"
        },
        "outputId": "290aa339-bacc-40dc-f57c-eaf360891029"
      },
      "execution_count": 9,
      "outputs": [
        {
          "output_type": "execute_result",
          "data": {
            "text/plain": [
              "17.0"
            ]
          },
          "metadata": {},
          "execution_count": 9
        }
      ]
    },
    {
      "cell_type": "markdown",
      "source": [
        "# Int"
      ],
      "metadata": {
        "id": "t7hIiVEHC3Q2"
      }
    },
    {
      "cell_type": "code",
      "source": [
        "5+2"
      ],
      "metadata": {
        "id": "PlInwbPVC2yM"
      },
      "execution_count": null,
      "outputs": []
    },
    {
      "cell_type": "markdown",
      "source": [
        "## String"
      ],
      "metadata": {
        "id": "_o655SJiC10O"
      }
    },
    {
      "cell_type": "code",
      "source": [
        "easy_python = 'Python ง่ายจังเลย' # String"
      ],
      "metadata": {
        "id": "VH-vED2vB7Va"
      },
      "execution_count": null,
      "outputs": []
    },
    {
      "cell_type": "code",
      "source": [
        "easy_python"
      ],
      "metadata": {
        "id": "yVURBzgwB9h8"
      },
      "execution_count": null,
      "outputs": []
    },
    {
      "cell_type": "markdown",
      "source": [
        "# Built-in Fuction"
      ],
      "metadata": {
        "id": "h21k_PuHCtB1"
      }
    },
    {
      "cell_type": "code",
      "source": [
        "print('Hello Everyone')"
      ],
      "metadata": {
        "id": "wakfFBn_Cs6u"
      },
      "execution_count": null,
      "outputs": []
    },
    {
      "cell_type": "code",
      "source": [
        "input(\"กรุณาใส่จำนวนนาฬิกา\")"
      ],
      "metadata": {
        "id": "J56-NJCmCs4W"
      },
      "execution_count": null,
      "outputs": []
    },
    {
      "cell_type": "code",
      "source": [
        "len('1234')"
      ],
      "metadata": {
        "id": "a8zsVUWECs2W"
      },
      "execution_count": null,
      "outputs": []
    },
    {
      "cell_type": "code",
      "source": [
        "int(24.99)"
      ],
      "metadata": {
        "id": "ENghgRa7Cs0G"
      },
      "execution_count": null,
      "outputs": []
    },
    {
      "cell_type": "code",
      "source": [
        "float(25)"
      ],
      "metadata": {
        "id": "G57zPCRYC78d"
      },
      "execution_count": null,
      "outputs": []
    },
    {
      "cell_type": "code",
      "source": [
        "str(25)"
      ],
      "metadata": {
        "id": "I8kINc9fC76X"
      },
      "execution_count": null,
      "outputs": []
    },
    {
      "cell_type": "markdown",
      "source": [
        "# Function"
      ],
      "metadata": {
        "id": "jzASo2ixB_qP"
      }
    },
    {
      "cell_type": "code",
      "source": [
        "def bmi_calculator(weight, height):\n",
        "    result = weight / (height ** 2)\n",
        "    return result"
      ],
      "metadata": {
        "id": "BpTakK_ZB-ET"
      },
      "execution_count": null,
      "outputs": []
    },
    {
      "cell_type": "code",
      "source": [
        "weight = 78\n",
        "height = 1.8 "
      ],
      "metadata": {
        "id": "tyAsCKNPCBll"
      },
      "execution_count": null,
      "outputs": []
    },
    {
      "cell_type": "code",
      "source": [
        "bmi_calculator(82, 1.8)"
      ],
      "metadata": {
        "id": "gpOsT0l-CB5t"
      },
      "execution_count": null,
      "outputs": []
    },
    {
      "cell_type": "markdown",
      "source": [
        "# For Loop"
      ],
      "metadata": {
        "id": "lb3fXQXBCDnG"
      }
    },
    {
      "cell_type": "code",
      "source": [
        "weight_list = [44, 55, 66, 77, 88]\n",
        "height_list = [1.75, 1.75, 1.75, 1.75, 1.75]"
      ],
      "metadata": {
        "id": "SN9oVAg5CCgU"
      },
      "execution_count": null,
      "outputs": []
    },
    {
      "cell_type": "code",
      "source": [
        "len(weight_list)"
      ],
      "metadata": {
        "id": "KiR-vSOTCOd8"
      },
      "execution_count": null,
      "outputs": []
    },
    {
      "cell_type": "code",
      "source": [
        "len(height_list)"
      ],
      "metadata": {
        "id": "0rUsmk4VCPpP"
      },
      "execution_count": null,
      "outputs": []
    },
    {
      "cell_type": "markdown",
      "source": [
        "# Condition"
      ],
      "metadata": {
        "id": "QpfxaZusCTRG"
      }
    },
    {
      "cell_type": "code",
      "source": [
        "result_bmi_list = []\n",
        "for idx, weight, height in zip(range(5), weight_list, height_list):\n",
        "    result_bmi = bmi_calculator(weight, height)\n",
        "    if result_bmi < 21:\n",
        "        print(f\"{idx}: ผอมเกินไปแล้วนะ !!\")\n",
        "    elif result_bmi > 24:\n",
        "        print(f\"{idx}: เลิกกินชาไข่มุกนะ !!\")\n",
        "    else:\n",
        "        print(f\"{idx}: สุขภาพดีนะ !!\")\n",
        "    result_bmi_list.append(result_bmi)"
      ],
      "metadata": {
        "id": "YBijbJXcCQ83"
      },
      "execution_count": null,
      "outputs": []
    },
    {
      "cell_type": "code",
      "source": [
        "result_bmi_list"
      ],
      "metadata": {
        "id": "-EVoJji1CUe6"
      },
      "execution_count": null,
      "outputs": []
    },
    {
      "cell_type": "code",
      "source": [
        "result_bmi_list[3]"
      ],
      "metadata": {
        "id": "dr4wn49kCWIp"
      },
      "execution_count": null,
      "outputs": []
    },
    {
      "cell_type": "code",
      "source": [
        "result_bmi_list[2:]"
      ],
      "metadata": {
        "id": "HgUyeDT2CYzX"
      },
      "execution_count": null,
      "outputs": []
    },
    {
      "cell_type": "code",
      "source": [
        "result_bmi_list[:3]"
      ],
      "metadata": {
        "id": "jo5xAA-TCYxW"
      },
      "execution_count": null,
      "outputs": []
    },
    {
      "cell_type": "code",
      "source": [
        "result_bmi_list[:-2]"
      ],
      "metadata": {
        "id": "XD4eEfqqCYvo"
      },
      "execution_count": null,
      "outputs": []
    },
    {
      "cell_type": "markdown",
      "source": [
        "# My First Program\n",
        "## Chit Chat"
      ],
      "metadata": {
        "id": "Vj0o7E3aDIBv"
      }
    },
    {
      "cell_type": "code",
      "source": [
        "# โปรแกรมโต้ตอบ Ruled Chat bot\n",
        "\n",
        "print('สวัสดีครับ...')\n",
        "print('คุณชื่ออะไรเอ่ย ?') # โปรแกรมโต้ตอบถามชื่อเรา\n",
        "\n",
        "myName = input() # ใส่ชื่อเราเอง\n",
        "\n",
        "print('ยินดีที่ได้รู้จักคุณ, ' + myName + ' ครับ')\n",
        "print('ความยาวของชื่อคุณมีขนาด: ')\n",
        "print(len(myName))\n",
        "print('ตอนนี้อายุคุณเท่าไหร่แล้วเอ่ย ?') # โปรแกรมถามอายุคุณ\n",
        "\n",
        "myAge = input()\n",
        "\n",
        "print('อายุคุณจะ ' + str(int(myAge) + 1) + ' ในปีนี้ ถ้าคุณยังไม่ถึงวันเกิดมาก่อนในปีเสียก่อนนะ !!')"
      ],
      "metadata": {
        "id": "wFVM3eJhCYtu"
      },
      "execution_count": null,
      "outputs": []
    },
    {
      "cell_type": "markdown",
      "source": [
        "# Boolean"
      ],
      "metadata": {
        "id": "vEeWWVGrDWaV"
      }
    },
    {
      "cell_type": "code",
      "source": [
        "T = True\n",
        "F = False"
      ],
      "metadata": {
        "id": "1Z9ELRF6CYr-"
      },
      "execution_count": null,
      "outputs": []
    },
    {
      "cell_type": "code",
      "source": [
        "print(T and T)\n",
        "print(T and F)\n",
        "print(F and T)\n",
        "print(F and F)"
      ],
      "metadata": {
        "id": "kdUuunp4CYpw"
      },
      "execution_count": null,
      "outputs": []
    },
    {
      "cell_type": "code",
      "source": [
        "print(T or T)\n",
        "print(T or F)\n",
        "print(F or T)\n",
        "print(F or F)"
      ],
      "metadata": {
        "id": "vW5KeFqlCYn3"
      },
      "execution_count": null,
      "outputs": []
    },
    {
      "cell_type": "code",
      "source": [
        "print(not T and T)\n",
        "print(not T and F)\n",
        "print(not F and T)\n",
        "print(not F and F)"
      ],
      "metadata": {
        "id": "Avy7k1yOCYlz"
      },
      "execution_count": null,
      "outputs": []
    },
    {
      "cell_type": "code",
      "source": [
        "print(not T or T)\n",
        "print(not T or F)\n",
        "print(not F or T)\n",
        "print(not F or F)"
      ],
      "metadata": {
        "id": "DLd5pjT5CYkG"
      },
      "execution_count": null,
      "outputs": []
    },
    {
      "cell_type": "code",
      "source": [
        "42 != 42"
      ],
      "metadata": {
        "id": "BEQ-_e7aDc5P"
      },
      "execution_count": null,
      "outputs": []
    },
    {
      "cell_type": "code",
      "source": [
        "42 == 99"
      ],
      "metadata": {
        "id": "p1BrbeucDc3M"
      },
      "execution_count": null,
      "outputs": []
    },
    {
      "cell_type": "code",
      "source": [
        "2 != 3"
      ],
      "metadata": {
        "id": "j-y319nqDc00"
      },
      "execution_count": null,
      "outputs": []
    },
    {
      "cell_type": "code",
      "source": [
        "'hello' == 'hello'"
      ],
      "metadata": {
        "id": "mEajEU6fCYVH"
      },
      "execution_count": null,
      "outputs": []
    },
    {
      "cell_type": "code",
      "source": [
        "'hello' == 'hello '"
      ],
      "metadata": {
        "id": "iNydqGAtDg7A"
      },
      "execution_count": null,
      "outputs": []
    },
    {
      "cell_type": "code",
      "source": [
        "'ทั้มป์' != 'ประหยัด'"
      ],
      "metadata": {
        "id": "LRNacDcFDhnA"
      },
      "execution_count": null,
      "outputs": []
    },
    {
      "cell_type": "code",
      "source": [
        "type(\"44\") == type('44.0')"
      ],
      "metadata": {
        "id": "l5Lt5b2IDjvj"
      },
      "execution_count": null,
      "outputs": []
    },
    {
      "cell_type": "code",
      "source": [
        "จำนวนไข่ = 42\n",
        "จำนวนไข่ <= 42"
      ],
      "metadata": {
        "id": "hhlUwWn6Dl2m"
      },
      "execution_count": null,
      "outputs": []
    },
    {
      "cell_type": "code",
      "source": [
        "จำนวนนาฬิกา = 29\n",
        "จำนวนนาฬิกา >= 10"
      ],
      "metadata": {
        "id": "78dFU_r5Dl00"
      },
      "execution_count": null,
      "outputs": []
    },
    {
      "cell_type": "code",
      "source": [
        "( 1 == 2 ) != ( 2 == 1 )"
      ],
      "metadata": {
        "id": "CpxOlgtBDsf0"
      },
      "execution_count": null,
      "outputs": []
    },
    {
      "cell_type": "code",
      "source": [
        "2 + 2 == 4 and not 2 + 2 == 5 and 2 * 2 == 2 + 2"
      ],
      "metadata": {
        "id": "pCYwP7spDlyd"
      },
      "execution_count": null,
      "outputs": []
    },
    {
      "cell_type": "markdown",
      "source": [
        "## Condition 2"
      ],
      "metadata": {
        "id": "D1ZXeUtrD2zw"
      }
    },
    {
      "cell_type": "code",
      "source": [
        "name = \"ลุง\""
      ],
      "metadata": {
        "id": "wWSYF5QQDlcu"
      },
      "execution_count": null,
      "outputs": []
    },
    {
      "cell_type": "code",
      "source": [
        "if name == 'ประหยัด': \n",
        "    print('สวัสดี ประหยัด')"
      ],
      "metadata": {
        "id": "UdR5hI6CDk5i"
      },
      "execution_count": null,
      "outputs": []
    },
    {
      "cell_type": "code",
      "source": [
        "if name == 'ประหยัด':\n",
        "    print('สวัสดี ประหยัด')\n",
        "else:\n",
        "    print('คุณชื่ออะไร !??')"
      ],
      "metadata": {
        "id": "MhqRWJn8D6AM"
      },
      "execution_count": null,
      "outputs": []
    },
    {
      "cell_type": "code",
      "source": [
        "Job = 'นายก'"
      ],
      "metadata": {
        "id": "B96_9tvYD6_R"
      },
      "execution_count": null,
      "outputs": []
    },
    {
      "cell_type": "code",
      "source": [
        "if name == 'ประหยัด':\n",
        "    print('สวัดสดี ประหยัด')\n",
        "elif Job == 'นายก':\n",
        "    print('คุณชื่ออะไร !??')"
      ],
      "metadata": {
        "id": "wLNB_47SD7hc"
      },
      "execution_count": null,
      "outputs": []
    },
    {
      "cell_type": "code",
      "source": [
        "while name != 'ประหยัด':\n",
        "  print('กรุณาใส่ชื่อของคุณครับ/ค่ะ.')\n",
        "  name = input()\n",
        "  print('ลาก่อย!')"
      ],
      "metadata": {
        "id": "GnGddbMHD94k"
      },
      "execution_count": null,
      "outputs": []
    },
    {
      "cell_type": "code",
      "source": [
        "age_ls = [12,10,20,25]"
      ],
      "metadata": {
        "id": "3nxIQZSMEAqZ"
      },
      "execution_count": null,
      "outputs": []
    },
    {
      "cell_type": "code",
      "source": [
        "for age in age_ls:\n",
        "  square_age = age*2\n",
        "  print(age, square_age)"
      ],
      "metadata": {
        "id": "YAY7Pa-JEGQG"
      },
      "execution_count": null,
      "outputs": []
    },
    {
      "cell_type": "code",
      "source": [
        "for age in age_ls:\n",
        "  square_age = age*2\n",
        "  print(\"ค่าอายุตั้งต้น: {}\".format(age) + \" ค่าอายุ*2: {}\".format(square_age))"
      ],
      "metadata": {
        "id": "sDhWpDaxEHqf"
      },
      "execution_count": null,
      "outputs": []
    },
    {
      "cell_type": "code",
      "source": [
        "for age in age_ls:\n",
        "  square_age = age*2\n",
        "  print(f\"ค่าอายุตั้งต้น: {age} ค่าอายุ*2: {square_age}\")"
      ],
      "metadata": {
        "id": "avW4KxBQEIqX"
      },
      "execution_count": null,
      "outputs": []
    },
    {
      "cell_type": "markdown",
      "source": [
        "# Function 2"
      ],
      "metadata": {
        "id": "2ftsrL2gEYEu"
      }
    },
    {
      "cell_type": "code",
      "source": [
        "import random"
      ],
      "metadata": {
        "id": "QyZm5bN6EaXt"
      },
      "execution_count": null,
      "outputs": []
    },
    {
      "cell_type": "code",
      "source": [
        "def คุกกี้เสี่ยงทาย(เสี่ยงทาย):\n",
        "\tif เสี่ยงทาย == 1:\n",
        "\t   return 'แอบมองเธอว์อยู่นะจีะ'\n",
        "\telif เสี่ยงทาย == 2:\n",
        "\t   return 'แต่เธอว์ไม่สนใจ'\n",
        "\telif เสี่ยงทาย == 3:\n",
        "\t   return 'แอบส่งใจให้นิดๆ'\n",
        "\telif เสี่ยงทาย == 4:\n",
        "\t   return 'แต่ดูเธอช่างเฉยเมย'\n",
        "\telif เสี่ยงทาย == 5:\n",
        "\t   return 'คนน่ารักก็เยอะนะ'\n",
        "\telif เสี่ยงทาย == 6:\n",
        "\t   return 'Yeah Yeah Yeah'\n",
        "\telif เสี่ยงทาย == 7:\n",
        "\t   return 'เหมือนว่าฉันนั้นเคว้งคว้าง'\n",
        "\telif เสี่ยงทาย == 8:\n",
        "\t   return 'รักไม่รักก็ต้องเสี่ยง'\n",
        "\telif เสี่ยงทาย == 9:\n",
        "\t   return 'อยากบอกเธอว่ารัก'"
      ],
      "metadata": {
        "id": "fRp_Ncf-ESg2"
      },
      "execution_count": null,
      "outputs": []
    },
    {
      "cell_type": "code",
      "source": [
        "r = random.randint(1, 9) \n",
        "fortune = คุกกี้เสี่ยงทาย(r)\n",
        "print(fortune)"
      ],
      "metadata": {
        "id": "E7Dr8H5vEcaL"
      },
      "execution_count": null,
      "outputs": []
    },
    {
      "cell_type": "markdown",
      "source": [
        "# Container"
      ],
      "metadata": {
        "id": "co_SVbUpEknU"
      }
    },
    {
      "cell_type": "markdown",
      "source": [
        "## List"
      ],
      "metadata": {
        "id": "52autQK6EnCs"
      }
    },
    {
      "cell_type": "code",
      "source": [
        "bins = ['prayad', 'prawiit', 'prajuap', 'pranop']"
      ],
      "metadata": {
        "id": "1BWQ15XhEfa8"
      },
      "execution_count": null,
      "outputs": []
    },
    {
      "cell_type": "code",
      "source": [
        "bins[0]"
      ],
      "metadata": {
        "id": "HVa8pPiMEfY9"
      },
      "execution_count": null,
      "outputs": []
    },
    {
      "cell_type": "code",
      "source": [
        "bins[1]"
      ],
      "metadata": {
        "id": "V9GWeDavEfW3"
      },
      "execution_count": null,
      "outputs": []
    },
    {
      "cell_type": "code",
      "source": [
        "bins[2]"
      ],
      "metadata": {
        "id": "g3JGMQS1EfUs"
      },
      "execution_count": null,
      "outputs": []
    },
    {
      "cell_type": "code",
      "source": [
        "bins[-1]"
      ],
      "metadata": {
        "id": "EXU6YYi4Edo5"
      },
      "execution_count": null,
      "outputs": []
    },
    {
      "cell_type": "code",
      "source": [
        "'คุณ ' + bins[0] + ' โดนคุณ ' + bins[1] + ' ตบกลางสี่แยก.'"
      ],
      "metadata": {
        "id": "xe4_hJoOEtXn"
      },
      "execution_count": null,
      "outputs": []
    },
    {
      "cell_type": "markdown",
      "source": [
        "### Change Values in List"
      ],
      "metadata": {
        "id": "L6_xKSSfEyVE"
      }
    },
    {
      "cell_type": "code",
      "source": [
        "bins[3] = 'ประจวบ'"
      ],
      "metadata": {
        "id": "rUI_6L_aEtVt"
      },
      "execution_count": null,
      "outputs": []
    },
    {
      "cell_type": "code",
      "source": [
        "bins[3]"
      ],
      "metadata": {
        "id": "BkBB5vAXEtTs"
      },
      "execution_count": null,
      "outputs": []
    },
    {
      "cell_type": "code",
      "source": [
        "bins"
      ],
      "metadata": {
        "id": "16xD_wlEEtR1"
      },
      "execution_count": null,
      "outputs": []
    },
    {
      "cell_type": "markdown",
      "source": [
        "### Add Values in List"
      ],
      "metadata": {
        "id": "i7mz8E1LFN9u"
      }
    },
    {
      "cell_type": "code",
      "source": [
        "bins.append('prawat')"
      ],
      "metadata": {
        "id": "KHi1z-15EtP3"
      },
      "execution_count": null,
      "outputs": []
    },
    {
      "cell_type": "code",
      "source": [
        "bins"
      ],
      "metadata": {
        "id": "KZWvgj3kEtOC"
      },
      "execution_count": null,
      "outputs": []
    },
    {
      "cell_type": "markdown",
      "source": [
        "### List Concatenate"
      ],
      "metadata": {
        "id": "2QqKngAoFTVv"
      }
    },
    {
      "cell_type": "code",
      "source": [
        "[1, 2, 3] + ['A', 'B', 'C']"
      ],
      "metadata": {
        "id": "J3cfg7HoEtL_"
      },
      "execution_count": null,
      "outputs": []
    },
    {
      "cell_type": "code",
      "source": [
        "['A', 'B', 'C'] * 3"
      ],
      "metadata": {
        "id": "mkmvDRLxEtJ8"
      },
      "execution_count": null,
      "outputs": []
    },
    {
      "cell_type": "code",
      "source": [
        "bins = bins + bins"
      ],
      "metadata": {
        "id": "cTnTAq_2EtHu"
      },
      "execution_count": null,
      "outputs": []
    },
    {
      "cell_type": "code",
      "source": [
        "bins"
      ],
      "metadata": {
        "id": "32fZMCWoEsaE"
      },
      "execution_count": null,
      "outputs": []
    },
    {
      "cell_type": "markdown",
      "source": [
        "### Removing Values"
      ],
      "metadata": {
        "id": "QwKtFMxJFZE9"
      }
    },
    {
      "cell_type": "code",
      "source": [
        "del bins[5]\n",
        "del bins[4]"
      ],
      "metadata": {
        "id": "w8zIiarxFX5Q"
      },
      "execution_count": null,
      "outputs": []
    },
    {
      "cell_type": "code",
      "source": [
        "bins"
      ],
      "metadata": {
        "id": "X0qgfVM0FaRo"
      },
      "execution_count": null,
      "outputs": []
    },
    {
      "cell_type": "code",
      "source": [
        "bins.pop(0)"
      ],
      "metadata": {
        "id": "6y3P78U2FaQU"
      },
      "execution_count": null,
      "outputs": []
    },
    {
      "cell_type": "code",
      "source": [
        "bins"
      ],
      "metadata": {
        "id": "Pnf70wpeFaO0"
      },
      "execution_count": null,
      "outputs": []
    },
    {
      "cell_type": "markdown",
      "source": [
        "### Sorting the Values"
      ],
      "metadata": {
        "id": "CKb1eIe4FkzU"
      }
    },
    {
      "cell_type": "code",
      "source": [
        "bins.sort()"
      ],
      "metadata": {
        "id": "n119e5elFaLl"
      },
      "execution_count": null,
      "outputs": []
    },
    {
      "cell_type": "code",
      "source": [
        "bins"
      ],
      "metadata": {
        "id": "K9ArL_t4FaJE"
      },
      "execution_count": null,
      "outputs": []
    },
    {
      "cell_type": "code",
      "source": [
        "bins.sort(reverse=True)"
      ],
      "metadata": {
        "id": "2qNGJxMLFaHE"
      },
      "execution_count": null,
      "outputs": []
    },
    {
      "cell_type": "code",
      "source": [
        "bins"
      ],
      "metadata": {
        "id": "Ue6cyZLWFaE8"
      },
      "execution_count": null,
      "outputs": []
    },
    {
      "cell_type": "markdown",
      "source": [
        "### Sclicing"
      ],
      "metadata": {
        "id": "-D7pM3FUFssq"
      }
    },
    {
      "cell_type": "code",
      "source": [
        "bins[:]"
      ],
      "metadata": {
        "id": "5T67fol-Fq4v"
      },
      "execution_count": null,
      "outputs": []
    },
    {
      "cell_type": "code",
      "source": [
        "bins[::-1]"
      ],
      "metadata": {
        "id": "Qoci9gLiFujY"
      },
      "execution_count": null,
      "outputs": []
    },
    {
      "cell_type": "code",
      "source": [
        "bins[3:6]"
      ],
      "metadata": {
        "id": "_UnqCjxyFv2G"
      },
      "execution_count": null,
      "outputs": []
    },
    {
      "cell_type": "markdown",
      "source": [
        "## Tuple"
      ],
      "metadata": {
        "id": "DZ6Q7ADaFzZz"
      }
    },
    {
      "cell_type": "code",
      "source": [
        "binsTuple = tuple(bins)"
      ],
      "metadata": {
        "id": "UVIblbqUFyoR"
      },
      "execution_count": null,
      "outputs": []
    },
    {
      "cell_type": "code",
      "source": [
        "binsTuple"
      ],
      "metadata": {
        "id": "cCvPIvCOFymF"
      },
      "execution_count": null,
      "outputs": []
    },
    {
      "cell_type": "code",
      "source": [
        "binsTuple[:-4]"
      ],
      "metadata": {
        "id": "0wFVbNj0Fyj7"
      },
      "execution_count": null,
      "outputs": []
    },
    {
      "cell_type": "code",
      "source": [
        "binsTuple[4] = 'prayette'"
      ],
      "metadata": {
        "id": "lazmZL_PFyhs"
      },
      "execution_count": null,
      "outputs": []
    },
    {
      "cell_type": "markdown",
      "source": [
        "## Dictionary"
      ],
      "metadata": {
        "id": "-nK7-Q7mF7xD"
      }
    },
    {
      "cell_type": "code",
      "source": [
        "myList = {'อุ๋ง': ['อร', 0 ], 'หลาม': 'ปัญ', 'กวิ้น': 'ไข่มุก'}"
      ],
      "metadata": {
        "id": "tcmDMEqPFxib"
      },
      "execution_count": null,
      "outputs": []
    },
    {
      "cell_type": "code",
      "source": [
        "myList"
      ],
      "metadata": {
        "id": "bJCELrrYGVGv"
      },
      "execution_count": null,
      "outputs": []
    },
    {
      "cell_type": "code",
      "source": [
        "myList['อุ๋ง']"
      ],
      "metadata": {
        "id": "7k07pOE6GVw0"
      },
      "execution_count": null,
      "outputs": []
    },
    {
      "cell_type": "code",
      "source": [
        "myList['หลาม']"
      ],
      "metadata": {
        "id": "ZXDMZwnqGWdB"
      },
      "execution_count": null,
      "outputs": []
    },
    {
      "cell_type": "code",
      "source": [
        "myList['กวิ้น']"
      ],
      "metadata": {
        "id": "6su_6oECGXrq"
      },
      "execution_count": null,
      "outputs": []
    },
    {
      "cell_type": "code",
      "source": [
        "myList['ไข่มุก']"
      ],
      "metadata": {
        "id": "8eUVUowuGYek"
      },
      "execution_count": null,
      "outputs": []
    },
    {
      "cell_type": "code",
      "source": [
        "myList = {'อุ๋ง': 'อร', 'หลาม': 'ปัญ', 'กวิ้น': 'ไข่มุก'}"
      ],
      "metadata": {
        "id": "4QSqvemcGhjS"
      },
      "execution_count": null,
      "outputs": []
    },
    {
      "cell_type": "code",
      "source": [
        "yourList = {'กวิ้น': 'ไข่มุก', 'อุ๋ง': 'อร', 'หลาม': 'ปัญ'}"
      ],
      "metadata": {
        "id": "u0eY9iKLGYcd"
      },
      "execution_count": null,
      "outputs": []
    },
    {
      "cell_type": "code",
      "source": [
        "myList == yourList"
      ],
      "metadata": {
        "id": "K_3zvKEhGYaY"
      },
      "execution_count": null,
      "outputs": []
    },
    {
      "cell_type": "code",
      "source": [
        "myList2 = ['อร','ปัญ','ไข่มุก']"
      ],
      "metadata": {
        "id": "K74qMBnxGYYM"
      },
      "execution_count": null,
      "outputs": []
    },
    {
      "cell_type": "code",
      "source": [
        "yourList2 = ['ปัญ','ไข่มุก','อร']"
      ],
      "metadata": {
        "id": "Np3eT_YbGYVz"
      },
      "execution_count": null,
      "outputs": []
    },
    {
      "cell_type": "code",
      "source": [
        "myList2 == yourList2"
      ],
      "metadata": {
        "id": "nsKhUESLGmDD"
      },
      "execution_count": null,
      "outputs": []
    },
    {
      "cell_type": "markdown",
      "source": [
        "### The keys(), values(), and items() Methods"
      ],
      "metadata": {
        "id": "klM52mwxGyMq"
      }
    },
    {
      "cell_type": "code",
      "source": [
        "for v in myList.values():\n",
        "    print(v)"
      ],
      "metadata": {
        "id": "unJ8U0TrGn6r"
      },
      "execution_count": null,
      "outputs": []
    },
    {
      "cell_type": "code",
      "source": [
        "for k in myList.keys(): \n",
        "    print(k)"
      ],
      "metadata": {
        "id": "KviC6eRqGozG"
      },
      "execution_count": null,
      "outputs": []
    },
    {
      "cell_type": "code",
      "source": [
        "for i in myList.items():\n",
        "    print(i)"
      ],
      "metadata": {
        "id": "S-kMdvU-GoyH"
      },
      "execution_count": null,
      "outputs": []
    },
    {
      "cell_type": "code",
      "source": [
        "for k, v in myList.items():\n",
        "    print(k, v)"
      ],
      "metadata": {
        "id": "ZvrkAgSxGova"
      },
      "execution_count": null,
      "outputs": []
    },
    {
      "cell_type": "code",
      "source": [
        "for k, _ in myList.items():\n",
        "    print(k, v)"
      ],
      "metadata": {
        "id": "DJekVQLZGord"
      },
      "execution_count": null,
      "outputs": []
    },
    {
      "cell_type": "markdown",
      "source": [
        "### Convert to List"
      ],
      "metadata": {
        "id": "tYf17Os3G83g"
      }
    },
    {
      "cell_type": "code",
      "source": [
        "myList.keys()"
      ],
      "metadata": {
        "id": "iOj6C1yaGopg"
      },
      "execution_count": null,
      "outputs": []
    },
    {
      "cell_type": "code",
      "source": [
        "list(myList.keys())"
      ],
      "metadata": {
        "id": "799NxXghGonk"
      },
      "execution_count": null,
      "outputs": []
    },
    {
      "cell_type": "code",
      "source": [
        ""
      ],
      "metadata": {
        "id": "WFmtsqlxGolT"
      },
      "execution_count": null,
      "outputs": []
    },
    {
      "cell_type": "markdown",
      "source": [
        "### Checking Whether a Key or Value Exists in a Dictionary"
      ],
      "metadata": {
        "id": "5w5XRko0HC9S"
      }
    },
    {
      "cell_type": "code",
      "source": [
        "myList"
      ],
      "metadata": {
        "id": "EcTNYZdKHE28"
      },
      "execution_count": null,
      "outputs": []
    },
    {
      "cell_type": "code",
      "source": [
        "'อุ๋ง' in myList.keys()"
      ],
      "metadata": {
        "id": "3x-cJ6KHHDeK"
      },
      "execution_count": null,
      "outputs": []
    },
    {
      "cell_type": "code",
      "source": [
        "'ไข่มุก' in myList.values()"
      ],
      "metadata": {
        "id": "ZlsFvx3SHEPr"
      },
      "execution_count": null,
      "outputs": []
    },
    {
      "cell_type": "code",
      "source": [
        "'ประหยัด' in myList.values()"
      ],
      "metadata": {
        "id": "JneEar3EHKW8"
      },
      "execution_count": null,
      "outputs": []
    },
    {
      "cell_type": "markdown",
      "source": [
        "### The get() Method"
      ],
      "metadata": {
        "id": "18MbIutkHNk9"
      }
    },
    {
      "cell_type": "code",
      "source": [
        "พักผ่อนหน้าร้อน = {'ทุเรียน': 5, 'มะระ': 2}"
      ],
      "metadata": {
        "id": "p5qnynzOHKUl"
      },
      "execution_count": null,
      "outputs": []
    },
    {
      "cell_type": "code",
      "source": [
        "'พักร้อนแบบนี้ต้องนำ ' + 'ทุเรียนมากิน ' + str(พักผ่อนหน้าร้อน.get('ทุเรียน', 0)) + ' ลูก'"
      ],
      "metadata": {
        "id": "seAPfwzpHKSk"
      },
      "execution_count": null,
      "outputs": []
    },
    {
      "cell_type": "code",
      "source": [
        "'ว่าแต่เราจะนำ ' + 'มะระมาทำไมตั้ง ' + str(พักผ่อนหน้าร้อน.get('มะระ', 0)) + ' ลูก'"
      ],
      "metadata": {
        "id": "vUVuina3HKQu"
      },
      "execution_count": null,
      "outputs": []
    },
    {
      "cell_type": "markdown",
      "source": [
        "# Function 3"
      ],
      "metadata": {
        "id": "kDgjVvefHWKZ"
      }
    },
    {
      "cell_type": "code",
      "source": [
        "message = \"\"\"แอบมองเธออยู่นะจ๊ะ\n",
        "แต่เธอไม่รู้บ้างเลย\n",
        "แอบส่งใจให้นิดๆ\n",
        "แต่ดูเธอช่างเฉยเมย\n",
        "เอาล่ะเตรียมใจไว้หน่อย\n",
        "มันจะหัวก้อยต้องเสี่ยงกัน\n",
        "Yeah Yeah Yeah\"\"\""
      ],
      "metadata": {
        "id": "Y02fZLhaHKOy"
      },
      "execution_count": null,
      "outputs": []
    },
    {
      "cell_type": "code",
      "source": [
        "count = {}\n",
        "\n",
        "for character in message:\n",
        "    count.setdefault(character, 0)\n",
        "    count[character] = count[character] + 1\n",
        "    \n",
        "print(count)"
      ],
      "metadata": {
        "id": "gUxSHKRRHKMq"
      },
      "execution_count": null,
      "outputs": []
    },
    {
      "cell_type": "markdown",
      "source": [
        "## pprint"
      ],
      "metadata": {
        "id": "flKsiDENHepy"
      }
    },
    {
      "cell_type": "code",
      "source": [
        "import pprint"
      ],
      "metadata": {
        "id": "CjlbAeEEHKK0"
      },
      "execution_count": null,
      "outputs": []
    },
    {
      "cell_type": "code",
      "source": [
        "pprint.pprint(count)"
      ],
      "metadata": {
        "id": "ThAZZLyoHhG3"
      },
      "execution_count": null,
      "outputs": []
    },
    {
      "cell_type": "markdown",
      "source": [
        "# String Manipulation"
      ],
      "metadata": {
        "id": "HFnoQGxoHsCr"
      }
    },
    {
      "cell_type": "markdown",
      "source": [
        "## Basic Method"
      ],
      "metadata": {
        "id": "mySz87V1HwKS"
      }
    },
    {
      "cell_type": "code",
      "source": [
        "hello = 'Hello World!'"
      ],
      "metadata": {
        "id": "GjQs5sgrHjVR"
      },
      "execution_count": null,
      "outputs": []
    },
    {
      "cell_type": "code",
      "source": [
        "hello"
      ],
      "metadata": {
        "id": "0aYvgKz8HjTY"
      },
      "execution_count": null,
      "outputs": []
    },
    {
      "cell_type": "code",
      "source": [
        "helloLower = hello.lower()\n",
        "helloLower"
      ],
      "metadata": {
        "id": "jRJoffAIHjRW"
      },
      "execution_count": null,
      "outputs": []
    },
    {
      "cell_type": "code",
      "source": [
        "helloUpper = hello.upper()\n",
        "helloUpper"
      ],
      "metadata": {
        "id": "NPf858KKHjPT"
      },
      "execution_count": null,
      "outputs": []
    },
    {
      "cell_type": "code",
      "source": [
        "helloUpper.isupper()"
      ],
      "metadata": {
        "id": "PzczBH6dHjNg"
      },
      "execution_count": null,
      "outputs": []
    },
    {
      "cell_type": "code",
      "source": [
        "helloLower.isupper()"
      ],
      "metadata": {
        "id": "h9kmhxXNHjLd"
      },
      "execution_count": null,
      "outputs": []
    },
    {
      "cell_type": "code",
      "source": [
        "helloNumeric = hello + str(10)\n",
        "helloNumeric"
      ],
      "metadata": {
        "id": "eW-YjwHlHjJW"
      },
      "execution_count": null,
      "outputs": []
    },
    {
      "cell_type": "code",
      "source": [
        "helloNumeric.istitle()"
      ],
      "metadata": {
        "id": "yLkIWePqITe2"
      },
      "execution_count": null,
      "outputs": []
    },
    {
      "cell_type": "code",
      "source": [
        "helloNumeric.isalpha()"
      ],
      "metadata": {
        "id": "uwAuQuDNHjHB"
      },
      "execution_count": null,
      "outputs": []
    },
    {
      "cell_type": "code",
      "source": [
        "helloNumeric.isalnum()"
      ],
      "metadata": {
        "id": "rtr65YRsHjFL"
      },
      "execution_count": null,
      "outputs": []
    },
    {
      "cell_type": "code",
      "source": [
        "helloAlnum = 'hello1234'"
      ],
      "metadata": {
        "id": "fpqcYCXYHjDH"
      },
      "execution_count": null,
      "outputs": []
    },
    {
      "cell_type": "code",
      "source": [
        "helloAlnum.isalnum()"
      ],
      "metadata": {
        "id": "LWmFuQwEILPS"
      },
      "execution_count": null,
      "outputs": []
    },
    {
      "cell_type": "code",
      "source": [
        "helloDecimal = '555555555'"
      ],
      "metadata": {
        "id": "n-9h1wiXILNL"
      },
      "execution_count": null,
      "outputs": []
    },
    {
      "cell_type": "code",
      "source": [
        "helloDecimal.isdecimal()"
      ],
      "metadata": {
        "id": "GGqYsuzBILLC"
      },
      "execution_count": null,
      "outputs": []
    },
    {
      "cell_type": "markdown",
      "source": [
        "## Validation Program"
      ],
      "metadata": {
        "id": "CMVyG1j7IYYa"
      }
    },
    {
      "cell_type": "code",
      "source": [
        "while True:\n",
        "    print('กรุณาระบุอายุของคุณ:')\n",
        "    age = input()\n",
        "    if age.isdecimal():\n",
        "        break\n",
        "    print('กรุณาระบุเป็นจำนวนเต็มครับ/ค่ะ')"
      ],
      "metadata": {
        "id": "7FKBGyGCILJC"
      },
      "execution_count": null,
      "outputs": []
    },
    {
      "cell_type": "code",
      "source": [
        "while True:\n",
        "    print('กรุณาระบุพาสเวิร์ดใหม่(ใช้ตัวอักษรและตัวเลขร่วมกัน):')\n",
        "    password = input()\n",
        "    if password.isalnum():\n",
        "        break\n",
        "    print('พาสเวิร์ดต้องเป็นตัวอักษรและตัวเลขเท่านั้น')"
      ],
      "metadata": {
        "id": "MJycB7D4HhU8"
      },
      "execution_count": null,
      "outputs": []
    },
    {
      "cell_type": "markdown",
      "source": [
        "## The join() and split() String Methods"
      ],
      "metadata": {
        "id": "YOowD-7FIj0d"
      }
    },
    {
      "cell_type": "code",
      "source": [
        "', '.join(['ชั้น', 'คือ', 'data scientist'])"
      ],
      "metadata": {
        "id": "eWRq76tGIiE0"
      },
      "execution_count": null,
      "outputs": []
    },
    {
      "cell_type": "code",
      "source": [
        "','.join(['ชั้น', 'คือ', 'data scientist'])"
      ],
      "metadata": {
        "id": "XV9Pmoh4IiCR"
      },
      "execution_count": null,
      "outputs": []
    },
    {
      "cell_type": "code",
      "source": [
        "' '.join(['ชั้น', 'คือ', 'data scientist'])"
      ],
      "metadata": {
        "id": "B7Qi6PGjIh8_"
      },
      "execution_count": null,
      "outputs": []
    },
    {
      "cell_type": "code",
      "source": [
        "'ชั้น คือ data scientist'.split()"
      ],
      "metadata": {
        "id": "Vjb5vyjvIh6-"
      },
      "execution_count": null,
      "outputs": []
    },
    {
      "cell_type": "code",
      "source": [
        "'ชั้น คือ data scientist'.split('data')"
      ],
      "metadata": {
        "id": "NKyCFBnoIh5G"
      },
      "execution_count": null,
      "outputs": []
    },
    {
      "cell_type": "code",
      "source": [
        "message = \"\"\"แอบมองเธออยู่นะจ๊ะ\n",
        "แต่เธอไม่รู้บ้างเลย\n",
        "แอบส่งใจให้นิดๆ\n",
        "แต่ดูเธอช่างเฉยเมย\n",
        "เอาล่ะเตรียมใจไว้หน่อย\n",
        "มันจะหัวก้อยต้องเสี่ยงกัน\n",
        "Yeah Yeah Yeah\"\"\""
      ],
      "metadata": {
        "id": "Jq9wTdtiIh2_"
      },
      "execution_count": null,
      "outputs": []
    },
    {
      "cell_type": "code",
      "source": [
        "message.split('\\n')"
      ],
      "metadata": {
        "id": "KiV-W8FYIh06"
      },
      "execution_count": null,
      "outputs": []
    },
    {
      "cell_type": "markdown",
      "source": [
        "## Justifying Text with rjust(), ljust(), and center()"
      ],
      "metadata": {
        "id": "V6-2_tytI6GY"
      }
    },
    {
      "cell_type": "code",
      "source": [
        "len('ประหยัด')"
      ],
      "metadata": {
        "id": "OvwiuOnKIhyx"
      },
      "execution_count": null,
      "outputs": []
    },
    {
      "cell_type": "code",
      "source": [
        "'ประหยัด'.rjust(10,' ')"
      ],
      "metadata": {
        "id": "kuk9JKVDI79M"
      },
      "execution_count": null,
      "outputs": []
    },
    {
      "cell_type": "code",
      "source": [
        "'ประหยัด'.rjust(30)"
      ],
      "metadata": {
        "id": "F0MIW4_kI80q"
      },
      "execution_count": null,
      "outputs": []
    },
    {
      "cell_type": "code",
      "source": [
        "'ประหยัด'.ljust(30,'*')"
      ],
      "metadata": {
        "id": "5TqLu2ibI9iQ"
      },
      "execution_count": null,
      "outputs": []
    },
    {
      "cell_type": "code",
      "source": [
        "'ประหยัด'.center(20, '=')"
      ],
      "metadata": {
        "id": "8q3HSdEsI9gS"
      },
      "execution_count": null,
      "outputs": []
    },
    {
      "cell_type": "markdown",
      "source": [
        "# Function 4"
      ],
      "metadata": {
        "id": "Nub_mSt_JE-E"
      }
    },
    {
      "cell_type": "code",
      "source": [
        "def printPicnic(itemsDict, leftWidth, rightWidth):\n",
        "    print('PICNIC ITEMS'.center(leftWidth + rightWidth, '-'))\n",
        "    for k, v in itemsDict.items():\n",
        "        print(k.ljust(leftWidth, '.') + str(v).rjust(rightWidth))"
      ],
      "metadata": {
        "id": "NQmgAMhiI9eY"
      },
      "execution_count": null,
      "outputs": []
    },
    {
      "cell_type": "code",
      "source": [
        "picnicItems = {'sandwiches': 4, 'apples': 12, 'cups': 4, 'cookies': 8000}"
      ],
      "metadata": {
        "id": "ayvDAoL8I9cM"
      },
      "execution_count": null,
      "outputs": []
    },
    {
      "cell_type": "code",
      "source": [
        "printPicnic(picnicItems, 12, 5)"
      ],
      "metadata": {
        "id": "Ij0XVkqiI9aD",
        "colab": {
          "base_uri": "https://localhost:8080/"
        },
        "outputId": "d7e20e75-b150-442c-e019-21074dbdcc66"
      },
      "execution_count": null,
      "outputs": [
        {
          "output_type": "stream",
          "name": "stdout",
          "text": [
            "---PICNIC ITEMS--\n",
            "sandwiches..    4\n",
            "apples......   12\n",
            "cups........    4\n",
            "cookies..... 8000\n"
          ]
        }
      ]
    },
    {
      "cell_type": "code",
      "source": [
        "printPicnic(picnicItems, 20, 20)"
      ],
      "metadata": {
        "id": "7q9leg3zI9YG",
        "colab": {
          "base_uri": "https://localhost:8080/"
        },
        "outputId": "676fc2ae-eb0d-437b-8ec3-885d025ba025"
      },
      "execution_count": null,
      "outputs": [
        {
          "output_type": "stream",
          "name": "stdout",
          "text": [
            "--------------PICNIC ITEMS--------------\n",
            "sandwiches..........                   4\n",
            "apples..............                  12\n",
            "cups................                   4\n",
            "cookies.............                8000\n"
          ]
        }
      ]
    },
    {
      "cell_type": "markdown",
      "source": [
        "## Removing Whitespace with strip(), rstrip(), and lstrip()"
      ],
      "metadata": {
        "id": "SQgwrtioJWCD"
      }
    },
    {
      "cell_type": "code",
      "source": [
        "helloSpace = '   Hello World!   '\n",
        "helloSpace"
      ],
      "metadata": {
        "id": "z2-wM-LtJQPt",
        "colab": {
          "base_uri": "https://localhost:8080/",
          "height": 35
        },
        "outputId": "df51783c-6247-43b0-8ee8-285265364fcb"
      },
      "execution_count": null,
      "outputs": [
        {
          "output_type": "execute_result",
          "data": {
            "text/plain": [
              "'   Hello World!   '"
            ],
            "application/vnd.google.colaboratory.intrinsic+json": {
              "type": "string"
            }
          },
          "metadata": {},
          "execution_count": 5
        }
      ]
    },
    {
      "cell_type": "code",
      "source": [
        "helloSpace.strip()"
      ],
      "metadata": {
        "id": "3pGKGuCXJX8i",
        "colab": {
          "base_uri": "https://localhost:8080/",
          "height": 35
        },
        "outputId": "0564f2a3-d94b-4a24-ea2f-2e97b4c6d220"
      },
      "execution_count": null,
      "outputs": [
        {
          "output_type": "execute_result",
          "data": {
            "text/plain": [
              "'Hello World!'"
            ],
            "application/vnd.google.colaboratory.intrinsic+json": {
              "type": "string"
            }
          },
          "metadata": {},
          "execution_count": 6
        }
      ]
    },
    {
      "cell_type": "code",
      "source": [
        "helloSpace.lstrip()"
      ],
      "metadata": {
        "id": "unLzqtRBJX7B",
        "colab": {
          "base_uri": "https://localhost:8080/",
          "height": 35
        },
        "outputId": "7a7b2cfd-7710-414c-a8cb-6a71f1829621"
      },
      "execution_count": null,
      "outputs": [
        {
          "output_type": "execute_result",
          "data": {
            "text/plain": [
              "'Hello World!   '"
            ],
            "application/vnd.google.colaboratory.intrinsic+json": {
              "type": "string"
            }
          },
          "metadata": {},
          "execution_count": 7
        }
      ]
    },
    {
      "cell_type": "code",
      "source": [
        "helloSpace.rstrip()"
      ],
      "metadata": {
        "id": "LTPjkZwiJX4j",
        "colab": {
          "base_uri": "https://localhost:8080/",
          "height": 35
        },
        "outputId": "a8d7a784-beb9-4805-c5ad-f346f2529611"
      },
      "execution_count": null,
      "outputs": [
        {
          "output_type": "execute_result",
          "data": {
            "text/plain": [
              "'   Hello World!'"
            ],
            "application/vnd.google.colaboratory.intrinsic+json": {
              "type": "string"
            }
          },
          "metadata": {},
          "execution_count": 8
        }
      ]
    },
    {
      "cell_type": "code",
      "source": [
        "helloSpace.replace(\" \",\"\")"
      ],
      "metadata": {
        "id": "yACVVFieJX2s",
        "colab": {
          "base_uri": "https://localhost:8080/",
          "height": 35
        },
        "outputId": "4301d73b-421b-48f7-901d-dc43cd9c6978"
      },
      "execution_count": null,
      "outputs": [
        {
          "output_type": "execute_result",
          "data": {
            "text/plain": [
              "'HelloWorld!'"
            ],
            "application/vnd.google.colaboratory.intrinsic+json": {
              "type": "string"
            }
          },
          "metadata": {},
          "execution_count": 9
        }
      ]
    },
    {
      "cell_type": "code",
      "source": [
        "foods = 'VetgeeBaconVetgeeEggsVetgeeVetgee'"
      ],
      "metadata": {
        "id": "Zz_Zk_WcJX1E"
      },
      "execution_count": null,
      "outputs": []
    },
    {
      "cell_type": "code",
      "source": [
        "foods.strip('Vetgee')"
      ],
      "metadata": {
        "id": "Ck-FwQbFJXy5"
      },
      "execution_count": null,
      "outputs": []
    },
    {
      "cell_type": "code",
      "source": [
        "'BaconVetgeeEggs'.replace(\"Vetgee\",\"\")"
      ],
      "metadata": {
        "id": "Jfr6wogcJXXv"
      },
      "execution_count": null,
      "outputs": []
    },
    {
      "cell_type": "markdown",
      "source": [
        "<h1><center> WK01 - Basic Python Programming for New Data Scientist </center><h1/>\n",
        "\n",
        "<h3><center>  \"Road to Data Scientist with Machine Learning Projects #01\" 🎉 </center><h3/>\n",
        "<h1><center> Congratulations!! Your Python Skills Has Been Leveled Up 🎉🎉 </center><h1/>"
      ],
      "metadata": {
        "id": "i0M9tnVRJgNx"
      }
    },
    {
      "cell_type": "code",
      "source": [
        ""
      ],
      "metadata": {
        "id": "YyaSLYY6Je73"
      },
      "execution_count": null,
      "outputs": []
    }
  ]
}