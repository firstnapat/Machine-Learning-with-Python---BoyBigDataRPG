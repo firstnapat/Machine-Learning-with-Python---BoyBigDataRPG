{
  "nbformat": 4,
  "nbformat_minor": 0,
  "metadata": {
    "colab": {
      "name": "WK01 - Basic Python Programming.ipynb",
      "provenance": [],
      "collapsed_sections": [],
      "include_colab_link": true
    },
    "kernelspec": {
      "name": "python3",
      "display_name": "Python 3"
    },
    "language_info": {
      "name": "python"
    }
  },
  "cells": [
    {
      "cell_type": "markdown",
      "metadata": {
        "id": "view-in-github",
        "colab_type": "text"
      },
      "source": [
        "<a href=\"https://colab.research.google.com/github/firstnapat/Machine-Learning-with-Python---BoyBigDataRPG/blob/main/WK01_Basic_Python_Programming.ipynb\" target=\"_parent\"><img src=\"https://colab.research.google.com/assets/colab-badge.svg\" alt=\"Open In Colab\"/></a>"
      ]
    },
    {
      "cell_type": "markdown",
      "source": [
        "<h1><center> WK01 - Basic Python Programming for New Data Scientist </center><h1/>\n",
        "\n",
        "<h3><center>  \"Road to Data Scientist with Machine Learning Projects #01\" </center><h3/>"
      ],
      "metadata": {
        "id": "5T7eVTriBdz_"
      }
    },
    {
      "cell_type": "markdown",
      "source": [
        "# Operator"
      ],
      "metadata": {
        "id": "d65qpQb-Bpov"
      }
    },
    {
      "cell_type": "code",
      "execution_count": 1,
      "metadata": {
        "id": "w9YsIr8wA-Hr",
        "colab": {
          "base_uri": "https://localhost:8080/"
        },
        "outputId": "4d51d941-6e38-4926-df1f-5d62143637e6"
      },
      "outputs": [
        {
          "output_type": "execute_result",
          "data": {
            "text/plain": [
              "20"
            ]
          },
          "metadata": {},
          "execution_count": 1
        }
      ],
      "source": [
        "2 + 3 * 6"
      ]
    },
    {
      "cell_type": "code",
      "source": [
        "(2 + 3) * 6"
      ],
      "metadata": {
        "id": "bp1u1HULBsOo",
        "colab": {
          "base_uri": "https://localhost:8080/"
        },
        "outputId": "a1de9ed5-9fd2-4b4f-d658-7f78b1a56f26"
      },
      "execution_count": 2,
      "outputs": [
        {
          "output_type": "execute_result",
          "data": {
            "text/plain": [
              "30"
            ]
          },
          "metadata": {},
          "execution_count": 2
        }
      ]
    },
    {
      "cell_type": "code",
      "source": [
        "2 ** 8"
      ],
      "metadata": {
        "id": "P3jPrgcOBtPk",
        "colab": {
          "base_uri": "https://localhost:8080/"
        },
        "outputId": "67e0baa7-8ada-436b-f564-feccdb64fd11"
      },
      "execution_count": 3,
      "outputs": [
        {
          "output_type": "execute_result",
          "data": {
            "text/plain": [
              "256"
            ]
          },
          "metadata": {},
          "execution_count": 3
        }
      ]
    },
    {
      "cell_type": "code",
      "source": [
        "23 / 7"
      ],
      "metadata": {
        "id": "sMkeBxUbBvLR",
        "colab": {
          "base_uri": "https://localhost:8080/"
        },
        "outputId": "fc9331b6-2a3a-49a7-9627-22319fa22ecc"
      },
      "execution_count": 4,
      "outputs": [
        {
          "output_type": "execute_result",
          "data": {
            "text/plain": [
              "3.2857142857142856"
            ]
          },
          "metadata": {},
          "execution_count": 4
        }
      ]
    },
    {
      "cell_type": "code",
      "source": [
        "23 // 7"
      ],
      "metadata": {
        "id": "cbd3eetlByJV",
        "colab": {
          "base_uri": "https://localhost:8080/"
        },
        "outputId": "5af92269-0234-46b3-9498-1823049f5ab7"
      },
      "execution_count": 5,
      "outputs": [
        {
          "output_type": "execute_result",
          "data": {
            "text/plain": [
              "3"
            ]
          },
          "metadata": {},
          "execution_count": 5
        }
      ]
    },
    {
      "cell_type": "code",
      "source": [
        "23 % 7"
      ],
      "metadata": {
        "id": "QeXDiD9SBy5e",
        "colab": {
          "base_uri": "https://localhost:8080/"
        },
        "outputId": "9a768881-33d7-4e43-c37c-71e37aa67cd0"
      },
      "execution_count": 6,
      "outputs": [
        {
          "output_type": "execute_result",
          "data": {
            "text/plain": [
              "2"
            ]
          },
          "metadata": {},
          "execution_count": 6
        }
      ]
    },
    {
      "cell_type": "markdown",
      "source": [
        "# Error"
      ],
      "metadata": {
        "id": "m4TgRLo5CgHN"
      }
    },
    {
      "cell_type": "code",
      "source": [
        "10 +"
      ],
      "metadata": {
        "id": "TPJJHLB-CigF",
        "colab": {
          "base_uri": "https://localhost:8080/",
          "height": 130
        },
        "outputId": "cff86d00-f9ee-4f03-e68f-54d709565c4d"
      },
      "execution_count": 7,
      "outputs": [
        {
          "output_type": "error",
          "ename": "SyntaxError",
          "evalue": "ignored",
          "traceback": [
            "\u001b[0;36m  File \u001b[0;32m\"<ipython-input-7-90c74e52a88f>\"\u001b[0;36m, line \u001b[0;32m1\u001b[0m\n\u001b[0;31m    10 +\u001b[0m\n\u001b[0m        ^\u001b[0m\n\u001b[0;31mSyntaxError\u001b[0m\u001b[0;31m:\u001b[0m invalid syntax\n"
          ]
        }
      ]
    },
    {
      "cell_type": "code",
      "source": [
        "40 + 5 + * 2"
      ],
      "metadata": {
        "id": "J7nb-y8QCibm",
        "colab": {
          "base_uri": "https://localhost:8080/",
          "height": 130
        },
        "outputId": "d3406df4-db29-4a7a-a6d9-7aa8123215b0"
      },
      "execution_count": 8,
      "outputs": [
        {
          "output_type": "error",
          "ename": "SyntaxError",
          "evalue": "ignored",
          "traceback": [
            "\u001b[0;36m  File \u001b[0;32m\"<ipython-input-8-ed878fdb87ac>\"\u001b[0;36m, line \u001b[0;32m1\u001b[0m\n\u001b[0;31m    40 + 5 + * 2\u001b[0m\n\u001b[0m             ^\u001b[0m\n\u001b[0;31mSyntaxError\u001b[0m\u001b[0;31m:\u001b[0m invalid syntax\n"
          ]
        }
      ]
    },
    {
      "cell_type": "markdown",
      "source": [
        "# Python Data Types"
      ],
      "metadata": {
        "id": "10QFEn4wB13u"
      }
    },
    {
      "cell_type": "markdown",
      "source": [
        "## Float"
      ],
      "metadata": {
        "id": "stpVV8b1B5_u"
      }
    },
    {
      "cell_type": "code",
      "source": [
        "(5 - 1) * ((7 + 1) / (3 - 1)) + 1 # Float"
      ],
      "metadata": {
        "id": "C2fLLOepB0iv",
        "colab": {
          "base_uri": "https://localhost:8080/"
        },
        "outputId": "290aa339-bacc-40dc-f57c-eaf360891029"
      },
      "execution_count": 9,
      "outputs": [
        {
          "output_type": "execute_result",
          "data": {
            "text/plain": [
              "17.0"
            ]
          },
          "metadata": {},
          "execution_count": 9
        }
      ]
    },
    {
      "cell_type": "markdown",
      "source": [
        "# Int"
      ],
      "metadata": {
        "id": "t7hIiVEHC3Q2"
      }
    },
    {
      "cell_type": "code",
      "source": [
        "5+2"
      ],
      "metadata": {
        "id": "PlInwbPVC2yM",
        "colab": {
          "base_uri": "https://localhost:8080/"
        },
        "outputId": "f55e4501-679d-4a6b-afd3-8cb05e37a257"
      },
      "execution_count": 10,
      "outputs": [
        {
          "output_type": "execute_result",
          "data": {
            "text/plain": [
              "7"
            ]
          },
          "metadata": {},
          "execution_count": 10
        }
      ]
    },
    {
      "cell_type": "markdown",
      "source": [
        "## String"
      ],
      "metadata": {
        "id": "_o655SJiC10O"
      }
    },
    {
      "cell_type": "code",
      "source": [
        "easy_python = 'Python ง่ายจังเลย' # String"
      ],
      "metadata": {
        "id": "VH-vED2vB7Va"
      },
      "execution_count": 11,
      "outputs": []
    },
    {
      "cell_type": "code",
      "source": [
        "easy_python"
      ],
      "metadata": {
        "id": "yVURBzgwB9h8",
        "colab": {
          "base_uri": "https://localhost:8080/",
          "height": 36
        },
        "outputId": "b8a0f297-e877-4001-8476-89d7a99daaa6"
      },
      "execution_count": 12,
      "outputs": [
        {
          "output_type": "execute_result",
          "data": {
            "text/plain": [
              "'Python ง่ายจังเลย'"
            ],
            "application/vnd.google.colaboratory.intrinsic+json": {
              "type": "string"
            }
          },
          "metadata": {},
          "execution_count": 12
        }
      ]
    },
    {
      "cell_type": "markdown",
      "source": [
        "# Built-in Fuction"
      ],
      "metadata": {
        "id": "h21k_PuHCtB1"
      }
    },
    {
      "cell_type": "code",
      "source": [
        "print('Hello Everyone')"
      ],
      "metadata": {
        "id": "wakfFBn_Cs6u",
        "colab": {
          "base_uri": "https://localhost:8080/"
        },
        "outputId": "430bf581-9b5b-470c-a925-3b811da6e69f"
      },
      "execution_count": 13,
      "outputs": [
        {
          "output_type": "stream",
          "name": "stdout",
          "text": [
            "Hello Everyone\n"
          ]
        }
      ]
    },
    {
      "cell_type": "code",
      "source": [
        "input(\"กรุณาใส่จำนวนนาฬิกา\")"
      ],
      "metadata": {
        "id": "J56-NJCmCs4W",
        "colab": {
          "base_uri": "https://localhost:8080/",
          "height": 53
        },
        "outputId": "7cdacba6-ab3d-4520-d687-207fc505e6ee"
      },
      "execution_count": 14,
      "outputs": [
        {
          "name": "stdout",
          "output_type": "stream",
          "text": [
            "กรุณาใส่จำนวนนาฬิกา24\n"
          ]
        },
        {
          "output_type": "execute_result",
          "data": {
            "text/plain": [
              "'24'"
            ],
            "application/vnd.google.colaboratory.intrinsic+json": {
              "type": "string"
            }
          },
          "metadata": {},
          "execution_count": 14
        }
      ]
    },
    {
      "cell_type": "code",
      "source": [
        "len('1234')"
      ],
      "metadata": {
        "id": "a8zsVUWECs2W",
        "colab": {
          "base_uri": "https://localhost:8080/"
        },
        "outputId": "e89e3da0-6608-4016-e125-ffeb7b0db2b0"
      },
      "execution_count": 15,
      "outputs": [
        {
          "output_type": "execute_result",
          "data": {
            "text/plain": [
              "4"
            ]
          },
          "metadata": {},
          "execution_count": 15
        }
      ]
    },
    {
      "cell_type": "code",
      "source": [
        "int(24.99)"
      ],
      "metadata": {
        "id": "ENghgRa7Cs0G",
        "colab": {
          "base_uri": "https://localhost:8080/"
        },
        "outputId": "75b81404-d0d7-4140-91ed-5f7a51b4516f"
      },
      "execution_count": 16,
      "outputs": [
        {
          "output_type": "execute_result",
          "data": {
            "text/plain": [
              "24"
            ]
          },
          "metadata": {},
          "execution_count": 16
        }
      ]
    },
    {
      "cell_type": "code",
      "source": [
        "float(25)"
      ],
      "metadata": {
        "id": "G57zPCRYC78d",
        "colab": {
          "base_uri": "https://localhost:8080/"
        },
        "outputId": "5550b98c-302c-44d4-ef85-876756cd59fb"
      },
      "execution_count": 17,
      "outputs": [
        {
          "output_type": "execute_result",
          "data": {
            "text/plain": [
              "25.0"
            ]
          },
          "metadata": {},
          "execution_count": 17
        }
      ]
    },
    {
      "cell_type": "code",
      "source": [
        "str(25)"
      ],
      "metadata": {
        "id": "I8kINc9fC76X",
        "colab": {
          "base_uri": "https://localhost:8080/",
          "height": 36
        },
        "outputId": "a846fab1-b936-42ff-d1c6-40a8862254e0"
      },
      "execution_count": 18,
      "outputs": [
        {
          "output_type": "execute_result",
          "data": {
            "text/plain": [
              "'25'"
            ],
            "application/vnd.google.colaboratory.intrinsic+json": {
              "type": "string"
            }
          },
          "metadata": {},
          "execution_count": 18
        }
      ]
    },
    {
      "cell_type": "markdown",
      "source": [
        "# Function"
      ],
      "metadata": {
        "id": "jzASo2ixB_qP"
      }
    },
    {
      "cell_type": "code",
      "source": [
        "def calculate_bmi(weight, height):\n",
        "    result = weight / (height ** 2)\n",
        "    return result"
      ],
      "metadata": {
        "id": "BpTakK_ZB-ET"
      },
      "execution_count": 26,
      "outputs": []
    },
    {
      "cell_type": "code",
      "source": [
        "weight = 78\n",
        "height = 1.8 "
      ],
      "metadata": {
        "id": "tyAsCKNPCBll"
      },
      "execution_count": 27,
      "outputs": []
    },
    {
      "cell_type": "code",
      "source": [
        "w = 78\n",
        "h = 1.8 "
      ],
      "metadata": {
        "id": "v3o47pgl1rP5"
      },
      "execution_count": 28,
      "outputs": []
    },
    {
      "cell_type": "code",
      "source": [
        "calculate_bmi(w, h)"
      ],
      "metadata": {
        "colab": {
          "base_uri": "https://localhost:8080/"
        },
        "id": "dRNgxXD31nH_",
        "outputId": "0b64bd38-4efc-43f7-a3a9-d8e030f11661"
      },
      "execution_count": 25,
      "outputs": [
        {
          "output_type": "execute_result",
          "data": {
            "text/plain": [
              "24.074074074074073"
            ]
          },
          "metadata": {},
          "execution_count": 25
        }
      ]
    },
    {
      "cell_type": "code",
      "source": [
        "calculate_bmi(82, 1.8)"
      ],
      "metadata": {
        "id": "gpOsT0l-CB5t",
        "colab": {
          "base_uri": "https://localhost:8080/"
        },
        "outputId": "412b249d-0c76-4f29-d3ed-adb850f41145"
      },
      "execution_count": 29,
      "outputs": [
        {
          "output_type": "execute_result",
          "data": {
            "text/plain": [
              "25.30864197530864"
            ]
          },
          "metadata": {},
          "execution_count": 29
        }
      ]
    },
    {
      "cell_type": "markdown",
      "source": [
        "# For Loop"
      ],
      "metadata": {
        "id": "lb3fXQXBCDnG"
      }
    },
    {
      "cell_type": "code",
      "source": [
        "weight_list = [44, 55, 66, 77, 88]\n",
        "height_list = [1.75, 1.75, 1.75, 1.75, 1.75]"
      ],
      "metadata": {
        "id": "SN9oVAg5CCgU"
      },
      "execution_count": 30,
      "outputs": []
    },
    {
      "cell_type": "code",
      "source": [
        "len(weight_list)"
      ],
      "metadata": {
        "id": "KiR-vSOTCOd8",
        "colab": {
          "base_uri": "https://localhost:8080/"
        },
        "outputId": "6d8734b1-b3c2-4142-c8cd-57e9fc43f3d4"
      },
      "execution_count": 31,
      "outputs": [
        {
          "output_type": "execute_result",
          "data": {
            "text/plain": [
              "5"
            ]
          },
          "metadata": {},
          "execution_count": 31
        }
      ]
    },
    {
      "cell_type": "code",
      "source": [
        "len(height_list)"
      ],
      "metadata": {
        "id": "0rUsmk4VCPpP",
        "colab": {
          "base_uri": "https://localhost:8080/"
        },
        "outputId": "c1874ca7-7825-47ab-9a8e-a8fb651db673"
      },
      "execution_count": 32,
      "outputs": [
        {
          "output_type": "execute_result",
          "data": {
            "text/plain": [
              "5"
            ]
          },
          "metadata": {},
          "execution_count": 32
        }
      ]
    },
    {
      "cell_type": "markdown",
      "source": [
        "# Condition"
      ],
      "metadata": {
        "id": "QpfxaZusCTRG"
      }
    },
    {
      "cell_type": "code",
      "source": [
        "weight_list = [44, 55, 66, 77, 88]\n",
        "height_list = [1.75, 1.75, 1.75, 1.75, 1.75]"
      ],
      "metadata": {
        "id": "9Clgs6xs42Rw"
      },
      "execution_count": 35,
      "outputs": []
    },
    {
      "cell_type": "code",
      "source": [
        "result_bmi_list = []\n",
        "for idx, weight, height in zip(range(5), weight_list, height_list):\n",
        "    print (weight_list, height_list)\n",
        "    result_bmi = calculate_bmi(weight, height)\n",
        "    if result_bmi < 21:\n",
        "        \n",
        "        print(f\"{idx}: ผอมเกินไปแล้วนะ !!\")\n",
        "    elif result_bmi > 24:\n",
        "        print(f\"{idx}: เลิกกินชาไข่มุกนะ !!\")\n",
        "    else:\n",
        "        print(f\"{idx}: สุขภาพดีนะ !!\")\n",
        "    result_bmi_list.append(result_bmi)"
      ],
      "metadata": {
        "id": "YBijbJXcCQ83",
        "colab": {
          "base_uri": "https://localhost:8080/"
        },
        "outputId": "c91fc83c-1019-457f-f31a-050e97433d34"
      },
      "execution_count": 41,
      "outputs": [
        {
          "output_type": "stream",
          "name": "stdout",
          "text": [
            "[44, 55, 66, 77, 88] [1.75, 1.75, 1.75, 1.75, 1.75]\n",
            "0: ผอมเกินไปแล้วนะ !!\n",
            "[44, 55, 66, 77, 88] [1.75, 1.75, 1.75, 1.75, 1.75]\n",
            "1: ผอมเกินไปแล้วนะ !!\n",
            "[44, 55, 66, 77, 88] [1.75, 1.75, 1.75, 1.75, 1.75]\n",
            "2: สุขภาพดีนะ !!\n",
            "[44, 55, 66, 77, 88] [1.75, 1.75, 1.75, 1.75, 1.75]\n",
            "3: เลิกกินชาไข่มุกนะ !!\n",
            "[44, 55, 66, 77, 88] [1.75, 1.75, 1.75, 1.75, 1.75]\n",
            "4: เลิกกินชาไข่มุกนะ !!\n"
          ]
        }
      ]
    },
    {
      "cell_type": "code",
      "source": [
        "for i in range(5):\n",
        "    print(i)"
      ],
      "metadata": {
        "colab": {
          "base_uri": "https://localhost:8080/"
        },
        "id": "8jM4LkM4500Q",
        "outputId": "503f5f06-85bb-4783-ebae-6902b22158ca"
      },
      "execution_count": 37,
      "outputs": [
        {
          "output_type": "stream",
          "name": "stdout",
          "text": [
            "0\n",
            "1\n",
            "2\n",
            "3\n",
            "4\n"
          ]
        }
      ]
    },
    {
      "cell_type": "code",
      "source": [
        "result_bmi_list"
      ],
      "metadata": {
        "id": "-EVoJji1CUe6",
        "colab": {
          "base_uri": "https://localhost:8080/"
        },
        "outputId": "badf7e33-3d95-4fcd-8c94-16fc904fed8f"
      },
      "execution_count": 42,
      "outputs": [
        {
          "output_type": "execute_result",
          "data": {
            "text/plain": [
              "[14.36734693877551,\n",
              " 17.959183673469386,\n",
              " 21.551020408163264,\n",
              " 25.142857142857142,\n",
              " 28.73469387755102]"
            ]
          },
          "metadata": {},
          "execution_count": 42
        }
      ]
    },
    {
      "cell_type": "code",
      "source": [
        "result_bmi_list[3]"
      ],
      "metadata": {
        "id": "dr4wn49kCWIp",
        "colab": {
          "base_uri": "https://localhost:8080/"
        },
        "outputId": "7340b370-9231-49a8-8e9e-105dfb5100c1"
      },
      "execution_count": 43,
      "outputs": [
        {
          "output_type": "execute_result",
          "data": {
            "text/plain": [
              "25.142857142857142"
            ]
          },
          "metadata": {},
          "execution_count": 43
        }
      ]
    },
    {
      "cell_type": "code",
      "source": [
        "result_bmi_list[2:]"
      ],
      "metadata": {
        "id": "HgUyeDT2CYzX",
        "colab": {
          "base_uri": "https://localhost:8080/"
        },
        "outputId": "1e1a228b-8d85-47d1-c1db-e7f739ca051f"
      },
      "execution_count": 44,
      "outputs": [
        {
          "output_type": "execute_result",
          "data": {
            "text/plain": [
              "[21.551020408163264, 25.142857142857142, 28.73469387755102]"
            ]
          },
          "metadata": {},
          "execution_count": 44
        }
      ]
    },
    {
      "cell_type": "code",
      "source": [
        "result_bmi_list[:3]"
      ],
      "metadata": {
        "id": "jo5xAA-TCYxW",
        "colab": {
          "base_uri": "https://localhost:8080/"
        },
        "outputId": "919d1dbe-a448-44d0-d6df-d4de5ad1d808"
      },
      "execution_count": 45,
      "outputs": [
        {
          "output_type": "execute_result",
          "data": {
            "text/plain": [
              "[14.36734693877551, 17.959183673469386, 21.551020408163264]"
            ]
          },
          "metadata": {},
          "execution_count": 45
        }
      ]
    },
    {
      "cell_type": "code",
      "source": [
        "result_bmi_list[:-2]"
      ],
      "metadata": {
        "id": "XD4eEfqqCYvo",
        "colab": {
          "base_uri": "https://localhost:8080/"
        },
        "outputId": "62ba2b2e-df35-4c08-ae55-216bbe7868b5"
      },
      "execution_count": 46,
      "outputs": [
        {
          "output_type": "execute_result",
          "data": {
            "text/plain": [
              "[14.36734693877551, 17.959183673469386, 21.551020408163264]"
            ]
          },
          "metadata": {},
          "execution_count": 46
        }
      ]
    },
    {
      "cell_type": "markdown",
      "source": [
        "# My First Program\n",
        "## Chit Chat"
      ],
      "metadata": {
        "id": "Vj0o7E3aDIBv"
      }
    },
    {
      "cell_type": "code",
      "source": [
        "# โปรแกรมโต้ตอบ Ruled Chat bot\n",
        "\n",
        "print('สวัสดีครับ...')\n",
        "print('คุณชื่ออะไรเอ่ย ?') # โปรแกรมโต้ตอบถามชื่อเรา\n",
        "\n",
        "myName = input() # ใส่ชื่อเราเอง\n",
        "\n",
        "print('ยินดีที่ได้รู้จักคุณ, ' + myName + ' ครับ')\n",
        "print('ความยาวของชื่อคุณมีขนาด: ')\n",
        "print(len(myName))\n",
        "print('ตอนนี้อายุคุณเท่าไหร่แล้วเอ่ย ?') # โปรแกรมถามอายุคุณ\n",
        "\n",
        "myAge = input()\n",
        "\n",
        "print('อายุคุณจะ ' + str(int(myAge) + 1) + ' ในปีนี้ ถ้าคุณยังไม่ถึงวันเกิดมาก่อนในปีเสียก่อนนะ !!')"
      ],
      "metadata": {
        "id": "wFVM3eJhCYtu",
        "colab": {
          "base_uri": "https://localhost:8080/"
        },
        "outputId": "a45511c0-f43a-4eb6-b630-1e6621a4e318"
      },
      "execution_count": 48,
      "outputs": [
        {
          "output_type": "stream",
          "name": "stdout",
          "text": [
            "สวัสดีครับ...\n",
            "คุณชื่ออะไรเอ่ย ?\n",
            "Napat \n",
            "ยินดีที่ได้รู้จักคุณ, Napat  ครับ\n",
            "ความยาวของชื่อคุณมีขนาด: \n",
            "6\n",
            "ตอนนี้อายุคุณเท่าไหร่แล้วเอ่ย ?\n",
            "22\n",
            "อายุคุณจะ 23 ในปีนี้ ถ้าคุณยังไม่ถึงวันเกิดมาก่อนในปีเสียก่อนนะ !!\n"
          ]
        }
      ]
    },
    {
      "cell_type": "markdown",
      "source": [
        "# Boolean"
      ],
      "metadata": {
        "id": "vEeWWVGrDWaV"
      }
    },
    {
      "cell_type": "code",
      "source": [
        "T = True\n",
        "F = False"
      ],
      "metadata": {
        "id": "1Z9ELRF6CYr-"
      },
      "execution_count": 49,
      "outputs": []
    },
    {
      "cell_type": "code",
      "source": [
        "print(T and T)\n",
        "print(T and F)\n",
        "print(F and T)\n",
        "print(F and F)"
      ],
      "metadata": {
        "id": "kdUuunp4CYpw",
        "colab": {
          "base_uri": "https://localhost:8080/"
        },
        "outputId": "90338484-a58a-41b6-feb8-ea45e6cba12f"
      },
      "execution_count": 50,
      "outputs": [
        {
          "output_type": "stream",
          "name": "stdout",
          "text": [
            "True\n",
            "False\n",
            "False\n",
            "False\n"
          ]
        }
      ]
    },
    {
      "cell_type": "code",
      "source": [
        "print(T or T)\n",
        "print(T or F)\n",
        "print(F or T)\n",
        "print(F or F)"
      ],
      "metadata": {
        "id": "vW5KeFqlCYn3",
        "colab": {
          "base_uri": "https://localhost:8080/"
        },
        "outputId": "ee059a56-4226-41aa-e092-9caec2f6e46a"
      },
      "execution_count": 51,
      "outputs": [
        {
          "output_type": "stream",
          "name": "stdout",
          "text": [
            "True\n",
            "True\n",
            "True\n",
            "False\n"
          ]
        }
      ]
    },
    {
      "cell_type": "code",
      "source": [
        "print(not T and T)\n",
        "print(not T and F)\n",
        "print(not F and T)\n",
        "print(not F and F)"
      ],
      "metadata": {
        "id": "Avy7k1yOCYlz",
        "colab": {
          "base_uri": "https://localhost:8080/"
        },
        "outputId": "45bf796d-3429-45f3-e117-5c8e5c469c60"
      },
      "execution_count": 52,
      "outputs": [
        {
          "output_type": "stream",
          "name": "stdout",
          "text": [
            "False\n",
            "False\n",
            "True\n",
            "False\n"
          ]
        }
      ]
    },
    {
      "cell_type": "code",
      "source": [
        "print(not T or T)\n",
        "print(not T or F)\n",
        "print(not F or T)\n",
        "print(not F or F)"
      ],
      "metadata": {
        "id": "DLd5pjT5CYkG",
        "colab": {
          "base_uri": "https://localhost:8080/"
        },
        "outputId": "e3a95453-af3e-47b4-ca20-626b071cf905"
      },
      "execution_count": 53,
      "outputs": [
        {
          "output_type": "stream",
          "name": "stdout",
          "text": [
            "True\n",
            "False\n",
            "True\n",
            "True\n"
          ]
        }
      ]
    },
    {
      "cell_type": "code",
      "source": [
        "42 != 42"
      ],
      "metadata": {
        "id": "BEQ-_e7aDc5P",
        "colab": {
          "base_uri": "https://localhost:8080/"
        },
        "outputId": "db54b9fa-8ccf-46e4-f0c9-239ff9500ab7"
      },
      "execution_count": 54,
      "outputs": [
        {
          "output_type": "execute_result",
          "data": {
            "text/plain": [
              "False"
            ]
          },
          "metadata": {},
          "execution_count": 54
        }
      ]
    },
    {
      "cell_type": "code",
      "source": [
        "42 == 99"
      ],
      "metadata": {
        "id": "p1BrbeucDc3M",
        "colab": {
          "base_uri": "https://localhost:8080/"
        },
        "outputId": "82324a18-9c6a-473c-ea97-76df1ad3ff7a"
      },
      "execution_count": 55,
      "outputs": [
        {
          "output_type": "execute_result",
          "data": {
            "text/plain": [
              "False"
            ]
          },
          "metadata": {},
          "execution_count": 55
        }
      ]
    },
    {
      "cell_type": "code",
      "source": [
        "2 != 3"
      ],
      "metadata": {
        "id": "j-y319nqDc00",
        "colab": {
          "base_uri": "https://localhost:8080/"
        },
        "outputId": "06ad48f2-6c0e-4398-e83b-dc2683bbd547"
      },
      "execution_count": 56,
      "outputs": [
        {
          "output_type": "execute_result",
          "data": {
            "text/plain": [
              "True"
            ]
          },
          "metadata": {},
          "execution_count": 56
        }
      ]
    },
    {
      "cell_type": "code",
      "source": [
        "'hello' == 'hello'"
      ],
      "metadata": {
        "id": "mEajEU6fCYVH",
        "colab": {
          "base_uri": "https://localhost:8080/"
        },
        "outputId": "b64c5edc-dfc4-4aa3-a391-c494efc8ce99"
      },
      "execution_count": 57,
      "outputs": [
        {
          "output_type": "execute_result",
          "data": {
            "text/plain": [
              "True"
            ]
          },
          "metadata": {},
          "execution_count": 57
        }
      ]
    },
    {
      "cell_type": "code",
      "source": [
        "'hello' == 'hello '"
      ],
      "metadata": {
        "id": "iNydqGAtDg7A",
        "colab": {
          "base_uri": "https://localhost:8080/"
        },
        "outputId": "1a7e51df-fe57-4a27-fab5-0715d8c42599"
      },
      "execution_count": 58,
      "outputs": [
        {
          "output_type": "execute_result",
          "data": {
            "text/plain": [
              "False"
            ]
          },
          "metadata": {},
          "execution_count": 58
        }
      ]
    },
    {
      "cell_type": "code",
      "source": [
        "'ทั้มป์' != 'ประหยัด'"
      ],
      "metadata": {
        "id": "LRNacDcFDhnA",
        "colab": {
          "base_uri": "https://localhost:8080/"
        },
        "outputId": "1cffc783-ac7e-4630-caf9-4b03d32ae28e"
      },
      "execution_count": 59,
      "outputs": [
        {
          "output_type": "execute_result",
          "data": {
            "text/plain": [
              "True"
            ]
          },
          "metadata": {},
          "execution_count": 59
        }
      ]
    },
    {
      "cell_type": "code",
      "source": [
        "type(\"44\") == type('44.0')"
      ],
      "metadata": {
        "id": "l5Lt5b2IDjvj",
        "colab": {
          "base_uri": "https://localhost:8080/"
        },
        "outputId": "e33f0f11-4823-4cfa-92fa-89335cb3427e"
      },
      "execution_count": 60,
      "outputs": [
        {
          "output_type": "execute_result",
          "data": {
            "text/plain": [
              "True"
            ]
          },
          "metadata": {},
          "execution_count": 60
        }
      ]
    },
    {
      "cell_type": "code",
      "source": [
        "จำนวนไข่ = 42\n",
        "จำนวนไข่ <= 42"
      ],
      "metadata": {
        "id": "hhlUwWn6Dl2m",
        "colab": {
          "base_uri": "https://localhost:8080/"
        },
        "outputId": "099f67e9-97f0-48c7-9e29-c6574ac0ceb1"
      },
      "execution_count": 61,
      "outputs": [
        {
          "output_type": "execute_result",
          "data": {
            "text/plain": [
              "True"
            ]
          },
          "metadata": {},
          "execution_count": 61
        }
      ]
    },
    {
      "cell_type": "code",
      "source": [
        "จำนวนนาฬิกา = 29\n",
        "จำนวนนาฬิกา >= 10"
      ],
      "metadata": {
        "id": "78dFU_r5Dl00",
        "colab": {
          "base_uri": "https://localhost:8080/"
        },
        "outputId": "8c87d133-b0af-4b45-a7c5-e234edd09ba0"
      },
      "execution_count": 62,
      "outputs": [
        {
          "output_type": "execute_result",
          "data": {
            "text/plain": [
              "True"
            ]
          },
          "metadata": {},
          "execution_count": 62
        }
      ]
    },
    {
      "cell_type": "code",
      "source": [
        "( 1 == 2 ) != ( 2 == 1 )"
      ],
      "metadata": {
        "id": "CpxOlgtBDsf0",
        "colab": {
          "base_uri": "https://localhost:8080/"
        },
        "outputId": "c5c83c3e-b14c-48e2-d079-a501782ba0c9"
      },
      "execution_count": 63,
      "outputs": [
        {
          "output_type": "execute_result",
          "data": {
            "text/plain": [
              "False"
            ]
          },
          "metadata": {},
          "execution_count": 63
        }
      ]
    },
    {
      "cell_type": "code",
      "source": [
        "2 + 2 == 4 and not 2 + 2 == 5 and 2 * 2 == 2 + 2"
      ],
      "metadata": {
        "id": "pCYwP7spDlyd",
        "colab": {
          "base_uri": "https://localhost:8080/"
        },
        "outputId": "ae449fe2-4ec2-4b8d-84de-9eb917078d9c"
      },
      "execution_count": 64,
      "outputs": [
        {
          "output_type": "execute_result",
          "data": {
            "text/plain": [
              "True"
            ]
          },
          "metadata": {},
          "execution_count": 64
        }
      ]
    },
    {
      "cell_type": "markdown",
      "source": [
        "## Condition 2"
      ],
      "metadata": {
        "id": "D1ZXeUtrD2zw"
      }
    },
    {
      "cell_type": "code",
      "source": [
        "name = \"ลุง\""
      ],
      "metadata": {
        "id": "wWSYF5QQDlcu"
      },
      "execution_count": 65,
      "outputs": []
    },
    {
      "cell_type": "code",
      "source": [
        "if name == 'ประหยัด': \n",
        "    print('สวัสดี ประหยัด')"
      ],
      "metadata": {
        "id": "UdR5hI6CDk5i"
      },
      "execution_count": 66,
      "outputs": []
    },
    {
      "cell_type": "code",
      "source": [
        "if name == 'ประหยัด':\n",
        "    print('สวัสดี ประหยัด')\n",
        "else:\n",
        "    print('คุณชื่ออะไร !??')"
      ],
      "metadata": {
        "id": "MhqRWJn8D6AM",
        "colab": {
          "base_uri": "https://localhost:8080/"
        },
        "outputId": "1946659d-2eb1-41e5-f7b1-060719fe0086"
      },
      "execution_count": 67,
      "outputs": [
        {
          "output_type": "stream",
          "name": "stdout",
          "text": [
            "คุณชื่ออะไร !??\n"
          ]
        }
      ]
    },
    {
      "cell_type": "code",
      "source": [
        "Job = 'นายก'"
      ],
      "metadata": {
        "id": "B96_9tvYD6_R"
      },
      "execution_count": 68,
      "outputs": []
    },
    {
      "cell_type": "code",
      "source": [
        "if name == 'ประหยัด':\n",
        "    print('สวัดสดี ประหยัด')\n",
        "elif Job == 'นายก':\n",
        "    print('คุณชื่ออะไร !??')"
      ],
      "metadata": {
        "id": "wLNB_47SD7hc",
        "colab": {
          "base_uri": "https://localhost:8080/"
        },
        "outputId": "9a27011f-694a-4519-ca86-26dec16d5a71"
      },
      "execution_count": 69,
      "outputs": [
        {
          "output_type": "stream",
          "name": "stdout",
          "text": [
            "คุณชื่ออะไร !??\n"
          ]
        }
      ]
    },
    {
      "cell_type": "code",
      "source": [
        "while name != 'ประหยัด':\n",
        "  print('กรุณาใส่ชื่อของคุณครับ/ค่ะ.')\n",
        "  name = input()\n",
        "  print('ลาก่อย!')"
      ],
      "metadata": {
        "id": "GnGddbMHD94k",
        "colab": {
          "base_uri": "https://localhost:8080/"
        },
        "outputId": "004108d6-f240-43bd-93c0-37767f9ad11c"
      },
      "execution_count": 70,
      "outputs": [
        {
          "output_type": "stream",
          "name": "stdout",
          "text": [
            "กรุณาใส่ชื่อของคุณครับ/ค่ะ.\n",
            "ประหยุด\n",
            "ลาก่อย!\n",
            "กรุณาใส่ชื่อของคุณครับ/ค่ะ.\n",
            "ประยุื\n",
            "ลาก่อย!\n",
            "กรุณาใส่ชื่อของคุณครับ/ค่ะ.\n",
            "ประหยัด\n",
            "ลาก่อย!\n"
          ]
        }
      ]
    },
    {
      "cell_type": "code",
      "source": [
        "age_ls = [12,10,20,25]"
      ],
      "metadata": {
        "id": "3nxIQZSMEAqZ"
      },
      "execution_count": 71,
      "outputs": []
    },
    {
      "cell_type": "code",
      "source": [
        "for age in age_ls:\n",
        "  square_age = age*2\n",
        "  print(age, square_age)"
      ],
      "metadata": {
        "id": "YAY7Pa-JEGQG",
        "colab": {
          "base_uri": "https://localhost:8080/"
        },
        "outputId": "5db7437a-15d6-48a6-c06f-f636cd93ca8a"
      },
      "execution_count": 72,
      "outputs": [
        {
          "output_type": "stream",
          "name": "stdout",
          "text": [
            "12 24\n",
            "10 20\n",
            "20 40\n",
            "25 50\n"
          ]
        }
      ]
    },
    {
      "cell_type": "code",
      "source": [
        "for age in age_ls:\n",
        "  square_age = age*2\n",
        "  print(\"ค่าอายุตั้งต้น: {}\".format(age) + \" ค่าอายุ*2: {}\".format(square_age))"
      ],
      "metadata": {
        "id": "sDhWpDaxEHqf",
        "colab": {
          "base_uri": "https://localhost:8080/"
        },
        "outputId": "58ec8805-94d4-40a9-f799-e4e256bec500"
      },
      "execution_count": 73,
      "outputs": [
        {
          "output_type": "stream",
          "name": "stdout",
          "text": [
            "ค่าอายุตั้งต้น: 12 ค่าอายุ*2: 24\n",
            "ค่าอายุตั้งต้น: 10 ค่าอายุ*2: 20\n",
            "ค่าอายุตั้งต้น: 20 ค่าอายุ*2: 40\n",
            "ค่าอายุตั้งต้น: 25 ค่าอายุ*2: 50\n"
          ]
        }
      ]
    },
    {
      "cell_type": "code",
      "source": [
        "for age in age_ls:\n",
        "  square_age = age*2\n",
        "  print(f\"ค่าอายุตั้งต้น: {age} ค่าอายุ*2: {square_age}\")"
      ],
      "metadata": {
        "id": "avW4KxBQEIqX",
        "colab": {
          "base_uri": "https://localhost:8080/"
        },
        "outputId": "01c4870c-a32a-4057-bcf9-e63724f7d6cc"
      },
      "execution_count": 74,
      "outputs": [
        {
          "output_type": "stream",
          "name": "stdout",
          "text": [
            "ค่าอายุตั้งต้น: 12 ค่าอายุ*2: 24\n",
            "ค่าอายุตั้งต้น: 10 ค่าอายุ*2: 20\n",
            "ค่าอายุตั้งต้น: 20 ค่าอายุ*2: 40\n",
            "ค่าอายุตั้งต้น: 25 ค่าอายุ*2: 50\n"
          ]
        }
      ]
    },
    {
      "cell_type": "markdown",
      "source": [
        "# Function 2"
      ],
      "metadata": {
        "id": "2ftsrL2gEYEu"
      }
    },
    {
      "cell_type": "code",
      "source": [
        "import random"
      ],
      "metadata": {
        "id": "QyZm5bN6EaXt"
      },
      "execution_count": 75,
      "outputs": []
    },
    {
      "cell_type": "code",
      "source": [
        "def คุกกี้เสี่ยงทาย(เสี่ยงทาย):\n",
        "\tif เสี่ยงทาย == 1:\n",
        "\t   return 'แอบมองเธอว์อยู่นะจ๊ะ'\n",
        "\telif เสี่ยงทาย == 2:\n",
        "\t   return 'แต่เธอว์ไม่สนใจ'\n",
        "\telif เสี่ยงทาย == 3:\n",
        "\t   return 'แอบส่งใจให้นิดๆ'\n",
        "\telif เสี่ยงทาย == 4:\n",
        "\t   return 'แต่ดูเธอช่างเฉยเมย'\n",
        "\telif เสี่ยงทาย == 5:\n",
        "\t   return 'คนน่ารักก็เยอะนะ'\n",
        "\telif เสี่ยงทาย == 6:\n",
        "\t   return 'Yeah Yeah Yeah'\n",
        "\telif เสี่ยงทาย == 7:\n",
        "\t   return 'เหมือนว่าฉันนั้นเคว้งคว้าง'\n",
        "\telif เสี่ยงทาย == 8:\n",
        "\t   return 'รักไม่รักก็ต้องเสี่ยง'\n",
        "\telif เสี่ยงทาย == 9:\n",
        "\t   return 'อยากบอกเธอว่ารัก'\n",
        "\telse:\n",
        "\t\treturn 'กรุณาใส่เลขใหม่'"
      ],
      "metadata": {
        "id": "fRp_Ncf-ESg2"
      },
      "execution_count": 81,
      "outputs": []
    },
    {
      "cell_type": "code",
      "source": [
        "r = random.randint(1, 9) \n",
        "print(r)\n",
        "fortune = คุกกี้เสี่ยงทาย(r)\n",
        "print(fortune)"
      ],
      "metadata": {
        "id": "E7Dr8H5vEcaL",
        "colab": {
          "base_uri": "https://localhost:8080/"
        },
        "outputId": "c3b07f6a-68b7-40f3-c04b-df895e1ee433"
      },
      "execution_count": 78,
      "outputs": [
        {
          "output_type": "stream",
          "name": "stdout",
          "text": [
            "7\n",
            "เหมือนว่าฉันนั้นเคว้งคว้าง\n"
          ]
        }
      ]
    },
    {
      "cell_type": "code",
      "source": [
        "คุกกี้เสี่ยงทาย(10)"
      ],
      "metadata": {
        "colab": {
          "base_uri": "https://localhost:8080/",
          "height": 36
        },
        "id": "MEhHKS3r_tMw",
        "outputId": "b6917bcb-aa5d-4ea4-b4d1-5b3a78423f6c"
      },
      "execution_count": 80,
      "outputs": [
        {
          "output_type": "execute_result",
          "data": {
            "text/plain": [
              "'กรุณาใส่เลขใหม่'"
            ],
            "application/vnd.google.colaboratory.intrinsic+json": {
              "type": "string"
            }
          },
          "metadata": {},
          "execution_count": 80
        }
      ]
    },
    {
      "cell_type": "code",
      "source": [
        "# เขียนให้สั้นลง\n",
        "song_fortune_dict = {\n",
        "    1: \"แอบมองเธอว์อยู่นะจ๊ะ\",\n",
        "    2: \"แต่เธอว์ไม่สนใจ\",\n",
        "    3: \"แอบส่งใจให้นิดๆ\",\n",
        "    4: \"แต่ดูเธอช่างเฉยเมย\",\n",
        "    5: \"คนน่ารักก็เยอะนะ\",\n",
        "    6: \"Yeah Yeah Yeah\",\n",
        "    7: \"เหมือนว่าฉันนั้นเคว้งคว้าง\",\n",
        "    8: \"รักไม่รักก็ต้องเสี่ยง\",\n",
        "    9: \"อยากบอกเธอว่ารัก\",\n",
        "}"
      ],
      "metadata": {
        "id": "SMPyYZu6AAv4"
      },
      "execution_count": 82,
      "outputs": []
    },
    {
      "cell_type": "code",
      "source": [
        "def random_fortune(number):\n",
        "    fortune = song_fortune_dict.get(number, \"กรุณาใส่เลขใหม่\")\n",
        "    return fortune"
      ],
      "metadata": {
        "id": "FSZgKRapA2Cf"
      },
      "execution_count": 87,
      "outputs": []
    },
    {
      "cell_type": "code",
      "source": [
        "random_fortune(10)"
      ],
      "metadata": {
        "colab": {
          "base_uri": "https://localhost:8080/",
          "height": 36
        },
        "id": "kpfuUIOlBQSY",
        "outputId": "caf499cd-667a-4256-bf30-310aafe1ed35"
      },
      "execution_count": 88,
      "outputs": [
        {
          "output_type": "execute_result",
          "data": {
            "text/plain": [
              "'กรุณาใส่เลขใหม่'"
            ],
            "application/vnd.google.colaboratory.intrinsic+json": {
              "type": "string"
            }
          },
          "metadata": {},
          "execution_count": 88
        }
      ]
    },
    {
      "cell_type": "markdown",
      "source": [
        "# Container"
      ],
      "metadata": {
        "id": "co_SVbUpEknU"
      }
    },
    {
      "cell_type": "markdown",
      "source": [
        "## List"
      ],
      "metadata": {
        "id": "52autQK6EnCs"
      }
    },
    {
      "cell_type": "code",
      "source": [
        "bins = ['prayad', 'prawiit', 'prajuap', 'pranop']\n",
        "# การเข้าถึงข้อมูลเราจะใช้ index"
      ],
      "metadata": {
        "id": "1BWQ15XhEfa8"
      },
      "execution_count": 90,
      "outputs": []
    },
    {
      "cell_type": "code",
      "source": [
        "bins[0]"
      ],
      "metadata": {
        "id": "HVa8pPiMEfY9",
        "colab": {
          "base_uri": "https://localhost:8080/",
          "height": 36
        },
        "outputId": "c7091bd0-c110-44d9-fc48-7c32779c7940"
      },
      "execution_count": 91,
      "outputs": [
        {
          "output_type": "execute_result",
          "data": {
            "text/plain": [
              "'prayad'"
            ],
            "application/vnd.google.colaboratory.intrinsic+json": {
              "type": "string"
            }
          },
          "metadata": {},
          "execution_count": 91
        }
      ]
    },
    {
      "cell_type": "code",
      "source": [
        "bins[1]"
      ],
      "metadata": {
        "id": "V9GWeDavEfW3",
        "colab": {
          "base_uri": "https://localhost:8080/",
          "height": 36
        },
        "outputId": "ae5a2354-b06f-4b23-b675-03af0622375a"
      },
      "execution_count": 92,
      "outputs": [
        {
          "output_type": "execute_result",
          "data": {
            "text/plain": [
              "'prawiit'"
            ],
            "application/vnd.google.colaboratory.intrinsic+json": {
              "type": "string"
            }
          },
          "metadata": {},
          "execution_count": 92
        }
      ]
    },
    {
      "cell_type": "code",
      "source": [
        "bins[2]"
      ],
      "metadata": {
        "id": "g3JGMQS1EfUs",
        "colab": {
          "base_uri": "https://localhost:8080/",
          "height": 36
        },
        "outputId": "ac688d8f-cc4c-44f3-a11d-0f574b11726b"
      },
      "execution_count": 93,
      "outputs": [
        {
          "output_type": "execute_result",
          "data": {
            "text/plain": [
              "'prajuap'"
            ],
            "application/vnd.google.colaboratory.intrinsic+json": {
              "type": "string"
            }
          },
          "metadata": {},
          "execution_count": 93
        }
      ]
    },
    {
      "cell_type": "code",
      "source": [
        "bins[-1]"
      ],
      "metadata": {
        "id": "EXU6YYi4Edo5",
        "colab": {
          "base_uri": "https://localhost:8080/",
          "height": 36
        },
        "outputId": "523636f8-d1f7-4889-a861-a7843430a142"
      },
      "execution_count": 94,
      "outputs": [
        {
          "output_type": "execute_result",
          "data": {
            "text/plain": [
              "'pranop'"
            ],
            "application/vnd.google.colaboratory.intrinsic+json": {
              "type": "string"
            }
          },
          "metadata": {},
          "execution_count": 94
        }
      ]
    },
    {
      "cell_type": "code",
      "source": [
        "'คุณ ' + bins[0] + ' โดนคุณ ' + bins[1] + ' ตบกลางสี่แยก.'"
      ],
      "metadata": {
        "id": "xe4_hJoOEtXn",
        "colab": {
          "base_uri": "https://localhost:8080/",
          "height": 36
        },
        "outputId": "28dd8947-69f6-41e1-e1ad-2e5914ba984b"
      },
      "execution_count": 95,
      "outputs": [
        {
          "output_type": "execute_result",
          "data": {
            "text/plain": [
              "'คุณ prayad โดนคุณ prawiit ตบกลางสี่แยก.'"
            ],
            "application/vnd.google.colaboratory.intrinsic+json": {
              "type": "string"
            }
          },
          "metadata": {},
          "execution_count": 95
        }
      ]
    },
    {
      "cell_type": "markdown",
      "source": [
        "### Change Values in List"
      ],
      "metadata": {
        "id": "L6_xKSSfEyVE"
      }
    },
    {
      "cell_type": "code",
      "source": [
        "bins[3] = 'ประจวบ'"
      ],
      "metadata": {
        "id": "rUI_6L_aEtVt"
      },
      "execution_count": 96,
      "outputs": []
    },
    {
      "cell_type": "code",
      "source": [
        "bins[3]"
      ],
      "metadata": {
        "id": "BkBB5vAXEtTs",
        "colab": {
          "base_uri": "https://localhost:8080/",
          "height": 36
        },
        "outputId": "2aef55ac-6ab8-4b69-b838-7ac458dcad5b"
      },
      "execution_count": 97,
      "outputs": [
        {
          "output_type": "execute_result",
          "data": {
            "text/plain": [
              "'ประจวบ'"
            ],
            "application/vnd.google.colaboratory.intrinsic+json": {
              "type": "string"
            }
          },
          "metadata": {},
          "execution_count": 97
        }
      ]
    },
    {
      "cell_type": "code",
      "source": [
        "bins"
      ],
      "metadata": {
        "id": "16xD_wlEEtR1",
        "colab": {
          "base_uri": "https://localhost:8080/"
        },
        "outputId": "28574bc9-7ac1-46df-ef99-591f6fcc6301"
      },
      "execution_count": 98,
      "outputs": [
        {
          "output_type": "execute_result",
          "data": {
            "text/plain": [
              "['prayad', 'prawiit', 'prajuap', 'ประจวบ']"
            ]
          },
          "metadata": {},
          "execution_count": 98
        }
      ]
    },
    {
      "cell_type": "markdown",
      "source": [
        "### Add Values in List"
      ],
      "metadata": {
        "id": "i7mz8E1LFN9u"
      }
    },
    {
      "cell_type": "code",
      "source": [
        "bins.append('prawat')"
      ],
      "metadata": {
        "id": "KHi1z-15EtP3"
      },
      "execution_count": 99,
      "outputs": []
    },
    {
      "cell_type": "code",
      "source": [
        "bins"
      ],
      "metadata": {
        "id": "KZWvgj3kEtOC",
        "colab": {
          "base_uri": "https://localhost:8080/"
        },
        "outputId": "15188cea-8004-4006-89f2-a14a86123fb5"
      },
      "execution_count": 100,
      "outputs": [
        {
          "output_type": "execute_result",
          "data": {
            "text/plain": [
              "['prayad', 'prawiit', 'prajuap', 'ประจวบ', 'prawat']"
            ]
          },
          "metadata": {},
          "execution_count": 100
        }
      ]
    },
    {
      "cell_type": "markdown",
      "source": [
        "### List Concatenate"
      ],
      "metadata": {
        "id": "2QqKngAoFTVv"
      }
    },
    {
      "cell_type": "code",
      "source": [
        "[1, 2, 3] + ['A', 'B', 'C']"
      ],
      "metadata": {
        "id": "J3cfg7HoEtL_",
        "colab": {
          "base_uri": "https://localhost:8080/"
        },
        "outputId": "2478feb1-d976-4297-a73c-c29e15dd9499"
      },
      "execution_count": 101,
      "outputs": [
        {
          "output_type": "execute_result",
          "data": {
            "text/plain": [
              "[1, 2, 3, 'A', 'B', 'C']"
            ]
          },
          "metadata": {},
          "execution_count": 101
        }
      ]
    },
    {
      "cell_type": "code",
      "source": [
        "['A', 'B', 'C'] * 3"
      ],
      "metadata": {
        "id": "mkmvDRLxEtJ8",
        "colab": {
          "base_uri": "https://localhost:8080/"
        },
        "outputId": "a8825b14-3714-4d63-c06a-db2a7f610789"
      },
      "execution_count": 102,
      "outputs": [
        {
          "output_type": "execute_result",
          "data": {
            "text/plain": [
              "['A', 'B', 'C', 'A', 'B', 'C', 'A', 'B', 'C']"
            ]
          },
          "metadata": {},
          "execution_count": 102
        }
      ]
    },
    {
      "cell_type": "code",
      "source": [
        "bins = bins + bins"
      ],
      "metadata": {
        "id": "cTnTAq_2EtHu"
      },
      "execution_count": 103,
      "outputs": []
    },
    {
      "cell_type": "code",
      "source": [
        "bins"
      ],
      "metadata": {
        "id": "32fZMCWoEsaE",
        "colab": {
          "base_uri": "https://localhost:8080/"
        },
        "outputId": "720680d5-0d87-4a21-e834-3e86dc3fece1"
      },
      "execution_count": 104,
      "outputs": [
        {
          "output_type": "execute_result",
          "data": {
            "text/plain": [
              "['prayad',\n",
              " 'prawiit',\n",
              " 'prajuap',\n",
              " 'ประจวบ',\n",
              " 'prawat',\n",
              " 'prayad',\n",
              " 'prawiit',\n",
              " 'prajuap',\n",
              " 'ประจวบ',\n",
              " 'prawat']"
            ]
          },
          "metadata": {},
          "execution_count": 104
        }
      ]
    },
    {
      "cell_type": "markdown",
      "source": [
        "### Removing Values"
      ],
      "metadata": {
        "id": "QwKtFMxJFZE9"
      }
    },
    {
      "cell_type": "code",
      "source": [
        "del bins[5]\n",
        "del bins[4]"
      ],
      "metadata": {
        "id": "w8zIiarxFX5Q"
      },
      "execution_count": 105,
      "outputs": []
    },
    {
      "cell_type": "code",
      "source": [
        "bins"
      ],
      "metadata": {
        "id": "X0qgfVM0FaRo",
        "colab": {
          "base_uri": "https://localhost:8080/"
        },
        "outputId": "8a37f858-982e-4916-ebcd-7991af0567f0"
      },
      "execution_count": 106,
      "outputs": [
        {
          "output_type": "execute_result",
          "data": {
            "text/plain": [
              "['prayad',\n",
              " 'prawiit',\n",
              " 'prajuap',\n",
              " 'ประจวบ',\n",
              " 'prawiit',\n",
              " 'prajuap',\n",
              " 'ประจวบ',\n",
              " 'prawat']"
            ]
          },
          "metadata": {},
          "execution_count": 106
        }
      ]
    },
    {
      "cell_type": "code",
      "source": [
        "bins.pop(0)"
      ],
      "metadata": {
        "id": "6y3P78U2FaQU",
        "colab": {
          "base_uri": "https://localhost:8080/",
          "height": 36
        },
        "outputId": "862dbcb3-3502-42b4-c251-12feab1558fa"
      },
      "execution_count": 107,
      "outputs": [
        {
          "output_type": "execute_result",
          "data": {
            "text/plain": [
              "'prayad'"
            ],
            "application/vnd.google.colaboratory.intrinsic+json": {
              "type": "string"
            }
          },
          "metadata": {},
          "execution_count": 107
        }
      ]
    },
    {
      "cell_type": "code",
      "source": [
        "bins"
      ],
      "metadata": {
        "id": "Pnf70wpeFaO0",
        "colab": {
          "base_uri": "https://localhost:8080/"
        },
        "outputId": "bc0d48f6-8379-47f2-9118-9a640a91d57c"
      },
      "execution_count": 108,
      "outputs": [
        {
          "output_type": "execute_result",
          "data": {
            "text/plain": [
              "['prawiit', 'prajuap', 'ประจวบ', 'prawiit', 'prajuap', 'ประจวบ', 'prawat']"
            ]
          },
          "metadata": {},
          "execution_count": 108
        }
      ]
    },
    {
      "cell_type": "markdown",
      "source": [
        "### Sorting the Values"
      ],
      "metadata": {
        "id": "CKb1eIe4FkzU"
      }
    },
    {
      "cell_type": "code",
      "source": [
        "bins.sort()"
      ],
      "metadata": {
        "id": "n119e5elFaLl"
      },
      "execution_count": 109,
      "outputs": []
    },
    {
      "cell_type": "code",
      "source": [
        "bins"
      ],
      "metadata": {
        "id": "K9ArL_t4FaJE",
        "colab": {
          "base_uri": "https://localhost:8080/"
        },
        "outputId": "f2d54468-3bb8-4fa5-a990-247b8d4642bf"
      },
      "execution_count": 110,
      "outputs": [
        {
          "output_type": "execute_result",
          "data": {
            "text/plain": [
              "['prajuap', 'prajuap', 'prawat', 'prawiit', 'prawiit', 'ประจวบ', 'ประจวบ']"
            ]
          },
          "metadata": {},
          "execution_count": 110
        }
      ]
    },
    {
      "cell_type": "code",
      "source": [
        "bins.sort(reverse=True)"
      ],
      "metadata": {
        "id": "2qNGJxMLFaHE"
      },
      "execution_count": 111,
      "outputs": []
    },
    {
      "cell_type": "code",
      "source": [
        "bins"
      ],
      "metadata": {
        "id": "Ue6cyZLWFaE8",
        "colab": {
          "base_uri": "https://localhost:8080/"
        },
        "outputId": "1758cc43-e95f-4924-aecc-f25122261b9b"
      },
      "execution_count": 112,
      "outputs": [
        {
          "output_type": "execute_result",
          "data": {
            "text/plain": [
              "['ประจวบ', 'ประจวบ', 'prawiit', 'prawiit', 'prawat', 'prajuap', 'prajuap']"
            ]
          },
          "metadata": {},
          "execution_count": 112
        }
      ]
    },
    {
      "cell_type": "markdown",
      "source": [
        "### Sclicing"
      ],
      "metadata": {
        "id": "-D7pM3FUFssq"
      }
    },
    {
      "cell_type": "code",
      "source": [
        "bins[:]"
      ],
      "metadata": {
        "id": "5T67fol-Fq4v",
        "colab": {
          "base_uri": "https://localhost:8080/"
        },
        "outputId": "36fe9ad0-e706-46a4-a4d4-01801c1732ef"
      },
      "execution_count": 113,
      "outputs": [
        {
          "output_type": "execute_result",
          "data": {
            "text/plain": [
              "['ประจวบ', 'ประจวบ', 'prawiit', 'prawiit', 'prawat', 'prajuap', 'prajuap']"
            ]
          },
          "metadata": {},
          "execution_count": 113
        }
      ]
    },
    {
      "cell_type": "code",
      "source": [
        "bins[::-1]"
      ],
      "metadata": {
        "id": "Qoci9gLiFujY",
        "colab": {
          "base_uri": "https://localhost:8080/"
        },
        "outputId": "af8703be-0f79-4664-9882-2bed9f14367d"
      },
      "execution_count": 114,
      "outputs": [
        {
          "output_type": "execute_result",
          "data": {
            "text/plain": [
              "['prajuap', 'prajuap', 'prawat', 'prawiit', 'prawiit', 'ประจวบ', 'ประจวบ']"
            ]
          },
          "metadata": {},
          "execution_count": 114
        }
      ]
    },
    {
      "cell_type": "code",
      "source": [
        "bins[3:6]"
      ],
      "metadata": {
        "id": "_UnqCjxyFv2G",
        "colab": {
          "base_uri": "https://localhost:8080/"
        },
        "outputId": "92a9dee0-9147-4166-ef7e-1509ac6de99c"
      },
      "execution_count": 115,
      "outputs": [
        {
          "output_type": "execute_result",
          "data": {
            "text/plain": [
              "['prawiit', 'prawat', 'prajuap']"
            ]
          },
          "metadata": {},
          "execution_count": 115
        }
      ]
    },
    {
      "cell_type": "markdown",
      "source": [
        "## Tuple"
      ],
      "metadata": {
        "id": "DZ6Q7ADaFzZz"
      }
    },
    {
      "cell_type": "markdown",
      "source": [
        "\n",
        "\n",
        "*   List = mutable คือลบ แก้ค่าอะไรด้านในได้ทุกอย่าง\n",
        "*   Tuple = immutable แก้อะไรไม่ได้\n",
        "\n"
      ],
      "metadata": {
        "id": "GZY96GtVDrxF"
      }
    },
    {
      "cell_type": "code",
      "source": [
        "binsTuple = tuple(bins)"
      ],
      "metadata": {
        "id": "UVIblbqUFyoR"
      },
      "execution_count": 117,
      "outputs": []
    },
    {
      "cell_type": "code",
      "source": [
        "binsTuple"
      ],
      "metadata": {
        "id": "cCvPIvCOFymF",
        "colab": {
          "base_uri": "https://localhost:8080/"
        },
        "outputId": "49596c24-4627-4a9a-a908-edbf5041122d"
      },
      "execution_count": 118,
      "outputs": [
        {
          "output_type": "execute_result",
          "data": {
            "text/plain": [
              "('ประจวบ', 'ประจวบ', 'prawiit', 'prawiit', 'prawat', 'prajuap', 'prajuap')"
            ]
          },
          "metadata": {},
          "execution_count": 118
        }
      ]
    },
    {
      "cell_type": "code",
      "source": [
        "binsTuple[:-4]"
      ],
      "metadata": {
        "id": "0wFVbNj0Fyj7",
        "colab": {
          "base_uri": "https://localhost:8080/"
        },
        "outputId": "4c10cecb-69ed-40c1-c50d-6bff9eec469c"
      },
      "execution_count": 119,
      "outputs": [
        {
          "output_type": "execute_result",
          "data": {
            "text/plain": [
              "('ประจวบ', 'ประจวบ', 'prawiit')"
            ]
          },
          "metadata": {},
          "execution_count": 119
        }
      ]
    },
    {
      "cell_type": "code",
      "source": [
        "binsTuple[4] = 'prayette' # immutable not support to assign"
      ],
      "metadata": {
        "id": "lazmZL_PFyhs",
        "colab": {
          "base_uri": "https://localhost:8080/",
          "height": 165
        },
        "outputId": "2032c523-1747-4fd5-a14f-1adb6b4fad95"
      },
      "execution_count": 120,
      "outputs": [
        {
          "output_type": "error",
          "ename": "TypeError",
          "evalue": "ignored",
          "traceback": [
            "\u001b[0;31m---------------------------------------------------------------------------\u001b[0m",
            "\u001b[0;31mTypeError\u001b[0m                                 Traceback (most recent call last)",
            "\u001b[0;32m<ipython-input-120-66d95ecddcd2>\u001b[0m in \u001b[0;36m<module>\u001b[0;34m()\u001b[0m\n\u001b[0;32m----> 1\u001b[0;31m \u001b[0mbinsTuple\u001b[0m\u001b[0;34m[\u001b[0m\u001b[0;36m4\u001b[0m\u001b[0;34m]\u001b[0m \u001b[0;34m=\u001b[0m \u001b[0;34m'prayette'\u001b[0m\u001b[0;34m\u001b[0m\u001b[0;34m\u001b[0m\u001b[0m\n\u001b[0m",
            "\u001b[0;31mTypeError\u001b[0m: 'tuple' object does not support item assignment"
          ]
        }
      ]
    },
    {
      "cell_type": "markdown",
      "source": [
        "## Dictionary"
      ],
      "metadata": {
        "id": "-nK7-Q7mF7xD"
      }
    },
    {
      "cell_type": "markdown",
      "source": [
        "Dictionary จะเร็วกว่า List ในการค้นหา"
      ],
      "metadata": {
        "id": "E8UduDhEEXv-"
      }
    },
    {
      "cell_type": "code",
      "source": [
        "myList = {'อุ๋ง': ['อร', 0 ], 'หลาม': 'ปัญ', 'กวิ้น': 'ไข่มุก'}"
      ],
      "metadata": {
        "id": "tcmDMEqPFxib"
      },
      "execution_count": 122,
      "outputs": []
    },
    {
      "cell_type": "code",
      "source": [
        "myList"
      ],
      "metadata": {
        "id": "bJCELrrYGVGv",
        "colab": {
          "base_uri": "https://localhost:8080/"
        },
        "outputId": "c051d71f-f8e4-4a94-fb7f-d484f32b78b2"
      },
      "execution_count": 123,
      "outputs": [
        {
          "output_type": "execute_result",
          "data": {
            "text/plain": [
              "{'กวิ้น': 'ไข่มุก', 'หลาม': 'ปัญ', 'อุ๋ง': ['อร', 0]}"
            ]
          },
          "metadata": {},
          "execution_count": 123
        }
      ]
    },
    {
      "cell_type": "code",
      "source": [
        "myList['อุ๋ง']"
      ],
      "metadata": {
        "id": "7k07pOE6GVw0",
        "colab": {
          "base_uri": "https://localhost:8080/"
        },
        "outputId": "df971035-0034-455f-a4ec-e868e0eb24c6"
      },
      "execution_count": 124,
      "outputs": [
        {
          "output_type": "execute_result",
          "data": {
            "text/plain": [
              "['อร', 0]"
            ]
          },
          "metadata": {},
          "execution_count": 124
        }
      ]
    },
    {
      "cell_type": "code",
      "source": [
        "myList['หลาม']"
      ],
      "metadata": {
        "id": "ZXDMZwnqGWdB",
        "colab": {
          "base_uri": "https://localhost:8080/",
          "height": 36
        },
        "outputId": "578410ab-1e80-4ea0-f0d5-34ecdabe05a1"
      },
      "execution_count": 125,
      "outputs": [
        {
          "output_type": "execute_result",
          "data": {
            "text/plain": [
              "'ปัญ'"
            ],
            "application/vnd.google.colaboratory.intrinsic+json": {
              "type": "string"
            }
          },
          "metadata": {},
          "execution_count": 125
        }
      ]
    },
    {
      "cell_type": "code",
      "source": [
        "myList['กวิ้น']"
      ],
      "metadata": {
        "id": "6su_6oECGXrq",
        "colab": {
          "base_uri": "https://localhost:8080/",
          "height": 36
        },
        "outputId": "632db90b-780c-4138-c314-332f50d14ea5"
      },
      "execution_count": 126,
      "outputs": [
        {
          "output_type": "execute_result",
          "data": {
            "text/plain": [
              "'ไข่มุก'"
            ],
            "application/vnd.google.colaboratory.intrinsic+json": {
              "type": "string"
            }
          },
          "metadata": {},
          "execution_count": 126
        }
      ]
    },
    {
      "cell_type": "code",
      "source": [
        "myList['ไข่มุก']"
      ],
      "metadata": {
        "id": "8eUVUowuGYek",
        "colab": {
          "base_uri": "https://localhost:8080/",
          "height": 165
        },
        "outputId": "25700e89-43f4-46ea-d838-de19ac90fdc1"
      },
      "execution_count": 127,
      "outputs": [
        {
          "output_type": "error",
          "ename": "KeyError",
          "evalue": "ignored",
          "traceback": [
            "\u001b[0;31m---------------------------------------------------------------------------\u001b[0m",
            "\u001b[0;31mKeyError\u001b[0m                                  Traceback (most recent call last)",
            "\u001b[0;32m<ipython-input-127-11e8c0a7e74e>\u001b[0m in \u001b[0;36m<module>\u001b[0;34m()\u001b[0m\n\u001b[0;32m----> 1\u001b[0;31m \u001b[0mmyList\u001b[0m\u001b[0;34m[\u001b[0m\u001b[0;34m'ไข่มุก'\u001b[0m\u001b[0;34m]\u001b[0m\u001b[0;34m\u001b[0m\u001b[0;34m\u001b[0m\u001b[0m\n\u001b[0m",
            "\u001b[0;31mKeyError\u001b[0m: 'ไข่มุก'"
          ]
        }
      ]
    },
    {
      "cell_type": "code",
      "source": [
        "myList = {'อุ๋ง': 'อร', 'หลาม': 'ปัญ', 'กวิ้น': 'ไข่มุก'}"
      ],
      "metadata": {
        "id": "4QSqvemcGhjS"
      },
      "execution_count": 128,
      "outputs": []
    },
    {
      "cell_type": "code",
      "source": [
        "yourList = {'กวิ้น': 'ไข่มุก', 'อุ๋ง': 'อร', 'หลาม': 'ปัญ'}"
      ],
      "metadata": {
        "id": "u0eY9iKLGYcd"
      },
      "execution_count": 129,
      "outputs": []
    },
    {
      "cell_type": "code",
      "source": [
        "myList == yourList  # เทียบค่าแล้วมีค่าเท่ากัน เพราะแค่มี key: value เท่ากันก็พอไม่สนลำดับ"
      ],
      "metadata": {
        "id": "K_3zvKEhGYaY",
        "colab": {
          "base_uri": "https://localhost:8080/"
        },
        "outputId": "0b34f305-45e6-4b1c-ed5a-372b998efbbe"
      },
      "execution_count": 131,
      "outputs": [
        {
          "output_type": "execute_result",
          "data": {
            "text/plain": [
              "True"
            ]
          },
          "metadata": {},
          "execution_count": 131
        }
      ]
    },
    {
      "cell_type": "code",
      "source": [
        "myList2 = ['อร','ปัญ','ไข่มุก']"
      ],
      "metadata": {
        "id": "K74qMBnxGYYM"
      },
      "execution_count": 132,
      "outputs": []
    },
    {
      "cell_type": "code",
      "source": [
        "yourList2 = ['ปัญ','ไข่มุก','อร']"
      ],
      "metadata": {
        "id": "Np3eT_YbGYVz"
      },
      "execution_count": 133,
      "outputs": []
    },
    {
      "cell_type": "code",
      "source": [
        "myList2 == yourList2 # แต่ List เมื่อเทียบกันจะตอบ False เพราะต้องดูลำดับด้วย"
      ],
      "metadata": {
        "id": "nsKhUESLGmDD",
        "colab": {
          "base_uri": "https://localhost:8080/"
        },
        "outputId": "fd6eab1b-63aa-4574-ad22-26722363c1d7"
      },
      "execution_count": 135,
      "outputs": [
        {
          "output_type": "execute_result",
          "data": {
            "text/plain": [
              "False"
            ]
          },
          "metadata": {},
          "execution_count": 135
        }
      ]
    },
    {
      "cell_type": "markdown",
      "source": [
        "### The keys(), values(), and items() Methods"
      ],
      "metadata": {
        "id": "klM52mwxGyMq"
      }
    },
    {
      "cell_type": "code",
      "source": [
        "for v in myList.values():\n",
        "    print(v)"
      ],
      "metadata": {
        "id": "unJ8U0TrGn6r",
        "colab": {
          "base_uri": "https://localhost:8080/"
        },
        "outputId": "473388ae-d7c5-4f5e-f014-58bb9db25285"
      },
      "execution_count": 136,
      "outputs": [
        {
          "output_type": "stream",
          "name": "stdout",
          "text": [
            "อร\n",
            "ปัญ\n",
            "ไข่มุก\n"
          ]
        }
      ]
    },
    {
      "cell_type": "code",
      "source": [
        "for k in myList.keys(): \n",
        "    print(k)"
      ],
      "metadata": {
        "id": "KviC6eRqGozG",
        "colab": {
          "base_uri": "https://localhost:8080/"
        },
        "outputId": "11436e3b-51e4-4ba2-e75d-008b9e8c7202"
      },
      "execution_count": 138,
      "outputs": [
        {
          "output_type": "stream",
          "name": "stdout",
          "text": [
            "อุ๋ง\n",
            "หลาม\n",
            "กวิ้น\n"
          ]
        }
      ]
    },
    {
      "cell_type": "code",
      "source": [
        "for i in myList.items():\n",
        "    print(i)"
      ],
      "metadata": {
        "id": "S-kMdvU-GoyH",
        "colab": {
          "base_uri": "https://localhost:8080/"
        },
        "outputId": "d268f1db-6472-4bbe-bba2-7327d758c8b7"
      },
      "execution_count": 139,
      "outputs": [
        {
          "output_type": "stream",
          "name": "stdout",
          "text": [
            "('อุ๋ง', 'อร')\n",
            "('หลาม', 'ปัญ')\n",
            "('กวิ้น', 'ไข่มุก')\n"
          ]
        }
      ]
    },
    {
      "cell_type": "code",
      "source": [
        "for k, v in myList.items():\n",
        "    print(k, v)"
      ],
      "metadata": {
        "id": "ZvrkAgSxGova",
        "colab": {
          "base_uri": "https://localhost:8080/"
        },
        "outputId": "b5b764f6-b5cd-481d-eedb-de1c16bf2bc2"
      },
      "execution_count": 140,
      "outputs": [
        {
          "output_type": "stream",
          "name": "stdout",
          "text": [
            "อุ๋ง อร\n",
            "หลาม ปัญ\n",
            "กวิ้น ไข่มุก\n"
          ]
        }
      ]
    },
    {
      "cell_type": "code",
      "source": [
        "for k, _ in myList.items(): # _ มารับคือไม่ใช้ต่อ แต่บังเอิญว่า v เก็บค่าเก่าก็เลยปริ้นไข่มุกออกมา\n",
        "    print(k, v)"
      ],
      "metadata": {
        "id": "DJekVQLZGord",
        "colab": {
          "base_uri": "https://localhost:8080/"
        },
        "outputId": "e327bd56-56c2-49aa-a232-a4148325ef56"
      },
      "execution_count": 142,
      "outputs": [
        {
          "output_type": "stream",
          "name": "stdout",
          "text": [
            "อุ๋ง ไข่มุก\n",
            "หลาม ไข่มุก\n",
            "กวิ้น ไข่มุก\n"
          ]
        }
      ]
    },
    {
      "cell_type": "markdown",
      "source": [
        "### Convert to List"
      ],
      "metadata": {
        "id": "tYf17Os3G83g"
      }
    },
    {
      "cell_type": "code",
      "source": [
        "myList.keys()"
      ],
      "metadata": {
        "id": "iOj6C1yaGopg",
        "colab": {
          "base_uri": "https://localhost:8080/"
        },
        "outputId": "82a7b232-98e4-485e-a94a-d11eb9e854f4"
      },
      "execution_count": 143,
      "outputs": [
        {
          "output_type": "execute_result",
          "data": {
            "text/plain": [
              "dict_keys(['อุ๋ง', 'หลาม', 'กวิ้น'])"
            ]
          },
          "metadata": {},
          "execution_count": 143
        }
      ]
    },
    {
      "cell_type": "code",
      "source": [
        "list(myList.keys())"
      ],
      "metadata": {
        "id": "799NxXghGonk",
        "colab": {
          "base_uri": "https://localhost:8080/"
        },
        "outputId": "4879a70e-a3d5-47cc-d301-3c6316e05ad4"
      },
      "execution_count": 144,
      "outputs": [
        {
          "output_type": "execute_result",
          "data": {
            "text/plain": [
              "['อุ๋ง', 'หลาม', 'กวิ้น']"
            ]
          },
          "metadata": {},
          "execution_count": 144
        }
      ]
    },
    {
      "cell_type": "code",
      "source": [
        ""
      ],
      "metadata": {
        "id": "WFmtsqlxGolT"
      },
      "execution_count": null,
      "outputs": []
    },
    {
      "cell_type": "markdown",
      "source": [
        "### Checking Whether a Key or Value Exists in a Dictionary"
      ],
      "metadata": {
        "id": "5w5XRko0HC9S"
      }
    },
    {
      "cell_type": "code",
      "source": [
        "myList"
      ],
      "metadata": {
        "id": "EcTNYZdKHE28",
        "colab": {
          "base_uri": "https://localhost:8080/"
        },
        "outputId": "39a6ea78-4ce1-44bc-b0fd-64203909912c"
      },
      "execution_count": 145,
      "outputs": [
        {
          "output_type": "execute_result",
          "data": {
            "text/plain": [
              "{'กวิ้น': 'ไข่มุก', 'หลาม': 'ปัญ', 'อุ๋ง': 'อร'}"
            ]
          },
          "metadata": {},
          "execution_count": 145
        }
      ]
    },
    {
      "cell_type": "code",
      "source": [
        "'อุ๋ง' in myList.keys()"
      ],
      "metadata": {
        "id": "3x-cJ6KHHDeK",
        "colab": {
          "base_uri": "https://localhost:8080/"
        },
        "outputId": "b6050401-1f0b-4808-8264-96bf07f1b9b2"
      },
      "execution_count": 146,
      "outputs": [
        {
          "output_type": "execute_result",
          "data": {
            "text/plain": [
              "True"
            ]
          },
          "metadata": {},
          "execution_count": 146
        }
      ]
    },
    {
      "cell_type": "code",
      "source": [
        "'ไข่มุก' in myList.values()"
      ],
      "metadata": {
        "id": "ZlsFvx3SHEPr",
        "colab": {
          "base_uri": "https://localhost:8080/"
        },
        "outputId": "c848c565-f8fb-4977-f261-758c65553ac8"
      },
      "execution_count": 147,
      "outputs": [
        {
          "output_type": "execute_result",
          "data": {
            "text/plain": [
              "True"
            ]
          },
          "metadata": {},
          "execution_count": 147
        }
      ]
    },
    {
      "cell_type": "code",
      "source": [
        "'ประหยัด' in myList.values()"
      ],
      "metadata": {
        "id": "JneEar3EHKW8",
        "colab": {
          "base_uri": "https://localhost:8080/"
        },
        "outputId": "43c54aec-75cf-4ca1-cb0f-9d01b6adc073"
      },
      "execution_count": 148,
      "outputs": [
        {
          "output_type": "execute_result",
          "data": {
            "text/plain": [
              "False"
            ]
          },
          "metadata": {},
          "execution_count": 148
        }
      ]
    },
    {
      "cell_type": "markdown",
      "source": [
        "### The get() Method"
      ],
      "metadata": {
        "id": "18MbIutkHNk9"
      }
    },
    {
      "cell_type": "markdown",
      "source": [
        "อยากได้ของมาเลย ถ้า get จาก dict ถ้ามีให้ return 'value ของ ทุเรียน' แล้วไม่มีก็ให้ return ค่า default 0"
      ],
      "metadata": {
        "id": "dSs41U8TFVjv"
      }
    },
    {
      "cell_type": "code",
      "source": [
        "พักผ่อนหน้าร้อน = {'ทุเรียน': 5, 'มะระ': 2}"
      ],
      "metadata": {
        "id": "p5qnynzOHKUl"
      },
      "execution_count": 149,
      "outputs": []
    },
    {
      "cell_type": "code",
      "source": [
        "'พักร้อนแบบนี้ต้องนำ ' + 'ทุเรียนมากิน ' + str(พักผ่อนหน้าร้อน.get('ทุเรียน', 0)) + ' ลูก'"
      ],
      "metadata": {
        "id": "seAPfwzpHKSk",
        "colab": {
          "base_uri": "https://localhost:8080/",
          "height": 36
        },
        "outputId": "1013e5e6-956c-4336-a6c1-e97a60a55d74"
      },
      "execution_count": 150,
      "outputs": [
        {
          "output_type": "execute_result",
          "data": {
            "text/plain": [
              "'พักร้อนแบบนี้ต้องนำ ทุเรียนมากิน 5 ลูก'"
            ],
            "application/vnd.google.colaboratory.intrinsic+json": {
              "type": "string"
            }
          },
          "metadata": {},
          "execution_count": 150
        }
      ]
    },
    {
      "cell_type": "code",
      "source": [
        "'ว่าแต่เราจะนำ ' + 'มะระมาทำไมตั้ง ' + str(พักผ่อนหน้าร้อน.get('มะระ', 0)) + ' ลูก'"
      ],
      "metadata": {
        "id": "vUVuina3HKQu",
        "colab": {
          "base_uri": "https://localhost:8080/",
          "height": 36
        },
        "outputId": "e45bc4cd-f8f4-491b-a98a-732edbb82267"
      },
      "execution_count": 151,
      "outputs": [
        {
          "output_type": "execute_result",
          "data": {
            "text/plain": [
              "'ว่าแต่เราจะนำ มะระมาทำไมตั้ง 2 ลูก'"
            ],
            "application/vnd.google.colaboratory.intrinsic+json": {
              "type": "string"
            }
          },
          "metadata": {},
          "execution_count": 151
        }
      ]
    },
    {
      "cell_type": "markdown",
      "source": [
        "# Function 3"
      ],
      "metadata": {
        "id": "kDgjVvefHWKZ"
      }
    },
    {
      "cell_type": "code",
      "source": [
        "message = \"\"\"แอบมองเธออยู่นะจ๊ะ\n",
        "แต่เธอไม่รู้บ้างเลย\n",
        "แอบส่งใจให้นิดๆ\n",
        "แต่ดูเธอช่างเฉยเมย\n",
        "เอาล่ะเตรียมใจไว้หน่อย\n",
        "มันจะหัวก้อยต้องเสี่ยงกัน\n",
        "Yeah Yeah Yeah\"\"\""
      ],
      "metadata": {
        "id": "Y02fZLhaHKOy"
      },
      "execution_count": 152,
      "outputs": []
    },
    {
      "cell_type": "code",
      "source": [
        "# นับ Character แต่ละตัวใน message\n",
        "count = {}\n",
        "\n",
        "for character in message:\n",
        "    # มี dict เปล่า ถ้าเจอค่าที่ยังไม่มีในนี้ให้สร้าง key ใหม่แล้ว add value = 0\n",
        "    count.setdefault(character, 0)  \n",
        "    # จากนั้นเลือกข้อมูลใน key ในบรรทัดก่อนหน้านี้แล้ว return 0 + 1 แล้ว assign เก็บไว้ใน key ตำแหน่งเดิม\n",
        "    count[character] = count[character] + 1\n",
        "    \n",
        "print(count)"
      ],
      "metadata": {
        "id": "gUxSHKRRHKMq",
        "colab": {
          "base_uri": "https://localhost:8080/"
        },
        "outputId": "c78c7d42-b6b8-4345-8cfb-693da2303db5"
      },
      "execution_count": 154,
      "outputs": [
        {
          "output_type": "stream",
          "name": "stdout",
          "text": [
            "{'แ': 4, 'อ': 11, 'บ': 3, 'ม': 5, 'ง': 6, 'เ': 9, 'ธ': 3, 'ย': 8, 'ู': 3, '่': 9, 'น': 5, 'ะ': 4, 'จ': 4, '๊': 1, '\\n': 6, 'ต': 4, 'ไ': 2, 'ร': 2, '้': 6, 'า': 3, 'ล': 2, 'ส': 2, 'ใ': 3, 'ห': 3, 'ิ': 1, 'ด': 2, 'ๆ': 1, 'ช': 1, 'ฉ': 1, 'ี': 2, 'ว': 2, 'ั': 3, 'ก': 2, 'Y': 3, 'e': 3, 'a': 3, 'h': 3, ' ': 2}\n"
          ]
        }
      ]
    },
    {
      "cell_type": "markdown",
      "source": [
        "## pprint"
      ],
      "metadata": {
        "id": "flKsiDENHepy"
      }
    },
    {
      "cell_type": "code",
      "source": [
        "import pprint"
      ],
      "metadata": {
        "id": "CjlbAeEEHKK0"
      },
      "execution_count": 155,
      "outputs": []
    },
    {
      "cell_type": "code",
      "source": [
        "pprint.pprint(count)"
      ],
      "metadata": {
        "id": "ThAZZLyoHhG3",
        "colab": {
          "base_uri": "https://localhost:8080/"
        },
        "outputId": "09b8ef31-898e-4133-c839-93ee11844916"
      },
      "execution_count": 156,
      "outputs": [
        {
          "output_type": "stream",
          "name": "stdout",
          "text": [
            "{'\\n': 6,\n",
            " ' ': 2,\n",
            " 'Y': 3,\n",
            " 'a': 3,\n",
            " 'e': 3,\n",
            " 'h': 3,\n",
            " 'ก': 2,\n",
            " 'ง': 6,\n",
            " 'จ': 4,\n",
            " 'ฉ': 1,\n",
            " 'ช': 1,\n",
            " 'ด': 2,\n",
            " 'ต': 4,\n",
            " 'ธ': 3,\n",
            " 'น': 5,\n",
            " 'บ': 3,\n",
            " 'ม': 5,\n",
            " 'ย': 8,\n",
            " 'ร': 2,\n",
            " 'ล': 2,\n",
            " 'ว': 2,\n",
            " 'ส': 2,\n",
            " 'ห': 3,\n",
            " 'อ': 11,\n",
            " 'ะ': 4,\n",
            " 'ั': 3,\n",
            " 'า': 3,\n",
            " 'ิ': 1,\n",
            " 'ี': 2,\n",
            " 'ู': 3,\n",
            " 'เ': 9,\n",
            " 'แ': 4,\n",
            " 'ใ': 3,\n",
            " 'ไ': 2,\n",
            " 'ๆ': 1,\n",
            " '่': 9,\n",
            " '้': 6,\n",
            " '๊': 1}\n"
          ]
        }
      ]
    },
    {
      "cell_type": "markdown",
      "source": [
        "# String Manipulation"
      ],
      "metadata": {
        "id": "HFnoQGxoHsCr"
      }
    },
    {
      "cell_type": "markdown",
      "source": [
        "## Basic Method"
      ],
      "metadata": {
        "id": "mySz87V1HwKS"
      }
    },
    {
      "cell_type": "code",
      "source": [
        "hello = 'Hello World!'"
      ],
      "metadata": {
        "id": "GjQs5sgrHjVR"
      },
      "execution_count": 157,
      "outputs": []
    },
    {
      "cell_type": "code",
      "source": [
        "hello"
      ],
      "metadata": {
        "id": "0aYvgKz8HjTY",
        "colab": {
          "base_uri": "https://localhost:8080/",
          "height": 36
        },
        "outputId": "424612b8-681b-45fa-96e1-6971d27238d4"
      },
      "execution_count": 158,
      "outputs": [
        {
          "output_type": "execute_result",
          "data": {
            "text/plain": [
              "'Hello World!'"
            ],
            "application/vnd.google.colaboratory.intrinsic+json": {
              "type": "string"
            }
          },
          "metadata": {},
          "execution_count": 158
        }
      ]
    },
    {
      "cell_type": "code",
      "source": [
        "helloLower = hello.lower()\n",
        "helloLower"
      ],
      "metadata": {
        "id": "jRJoffAIHjRW",
        "colab": {
          "base_uri": "https://localhost:8080/",
          "height": 36
        },
        "outputId": "5e109c65-560e-4885-cbf7-681c8126d8b5"
      },
      "execution_count": 159,
      "outputs": [
        {
          "output_type": "execute_result",
          "data": {
            "text/plain": [
              "'hello world!'"
            ],
            "application/vnd.google.colaboratory.intrinsic+json": {
              "type": "string"
            }
          },
          "metadata": {},
          "execution_count": 159
        }
      ]
    },
    {
      "cell_type": "code",
      "source": [
        "helloUpper = hello.upper()\n",
        "helloUpper"
      ],
      "metadata": {
        "id": "NPf858KKHjPT",
        "colab": {
          "base_uri": "https://localhost:8080/",
          "height": 36
        },
        "outputId": "71c458ff-9493-4eb7-f8d9-ea24a462dbcf"
      },
      "execution_count": 160,
      "outputs": [
        {
          "output_type": "execute_result",
          "data": {
            "text/plain": [
              "'HELLO WORLD!'"
            ],
            "application/vnd.google.colaboratory.intrinsic+json": {
              "type": "string"
            }
          },
          "metadata": {},
          "execution_count": 160
        }
      ]
    },
    {
      "cell_type": "code",
      "source": [
        "helloUpper.isupper()"
      ],
      "metadata": {
        "id": "PzczBH6dHjNg",
        "colab": {
          "base_uri": "https://localhost:8080/"
        },
        "outputId": "3ac45b19-ba24-4500-efda-6b84e4ca4f21"
      },
      "execution_count": 161,
      "outputs": [
        {
          "output_type": "execute_result",
          "data": {
            "text/plain": [
              "True"
            ]
          },
          "metadata": {},
          "execution_count": 161
        }
      ]
    },
    {
      "cell_type": "code",
      "source": [
        "helloLower.isupper()"
      ],
      "metadata": {
        "id": "h9kmhxXNHjLd",
        "colab": {
          "base_uri": "https://localhost:8080/"
        },
        "outputId": "be15dc7c-9379-48e0-b6a0-a932cbae1313"
      },
      "execution_count": 162,
      "outputs": [
        {
          "output_type": "execute_result",
          "data": {
            "text/plain": [
              "False"
            ]
          },
          "metadata": {},
          "execution_count": 162
        }
      ]
    },
    {
      "cell_type": "code",
      "source": [
        "helloNumeric = hello + str(10)\n",
        "helloNumeric"
      ],
      "metadata": {
        "id": "eW-YjwHlHjJW",
        "colab": {
          "base_uri": "https://localhost:8080/",
          "height": 36
        },
        "outputId": "2f08e876-a440-458e-f259-151f541e567a"
      },
      "execution_count": 163,
      "outputs": [
        {
          "output_type": "execute_result",
          "data": {
            "text/plain": [
              "'Hello World!10'"
            ],
            "application/vnd.google.colaboratory.intrinsic+json": {
              "type": "string"
            }
          },
          "metadata": {},
          "execution_count": 163
        }
      ]
    },
    {
      "cell_type": "code",
      "source": [
        "helloNumeric.istitle()"
      ],
      "metadata": {
        "id": "yLkIWePqITe2",
        "colab": {
          "base_uri": "https://localhost:8080/"
        },
        "outputId": "4828f8d4-32df-497a-fa1c-33c63cd519d7"
      },
      "execution_count": 164,
      "outputs": [
        {
          "output_type": "execute_result",
          "data": {
            "text/plain": [
              "True"
            ]
          },
          "metadata": {},
          "execution_count": 164
        }
      ]
    },
    {
      "cell_type": "code",
      "source": [
        "helloNumeric.isalpha()"
      ],
      "metadata": {
        "id": "uwAuQuDNHjHB",
        "colab": {
          "base_uri": "https://localhost:8080/"
        },
        "outputId": "41af6496-4433-4916-cd51-7dc889c08ddb"
      },
      "execution_count": 165,
      "outputs": [
        {
          "output_type": "execute_result",
          "data": {
            "text/plain": [
              "False"
            ]
          },
          "metadata": {},
          "execution_count": 165
        }
      ]
    },
    {
      "cell_type": "code",
      "source": [
        "helloNumeric.isalnum()"
      ],
      "metadata": {
        "id": "rtr65YRsHjFL",
        "colab": {
          "base_uri": "https://localhost:8080/"
        },
        "outputId": "777ba413-bdd4-4155-a1e6-383eb64096a6"
      },
      "execution_count": 166,
      "outputs": [
        {
          "output_type": "execute_result",
          "data": {
            "text/plain": [
              "False"
            ]
          },
          "metadata": {},
          "execution_count": 166
        }
      ]
    },
    {
      "cell_type": "code",
      "source": [
        "helloAlnum = 'hello1234'"
      ],
      "metadata": {
        "id": "fpqcYCXYHjDH"
      },
      "execution_count": 167,
      "outputs": []
    },
    {
      "cell_type": "code",
      "source": [
        "helloAlnum.isalnum() # alpha = ตัวอักษร, num = ตัวเลข"
      ],
      "metadata": {
        "id": "LWmFuQwEILPS",
        "colab": {
          "base_uri": "https://localhost:8080/"
        },
        "outputId": "237fc621-9483-4531-fc6f-c40cc37ecf5f"
      },
      "execution_count": 169,
      "outputs": [
        {
          "output_type": "execute_result",
          "data": {
            "text/plain": [
              "True"
            ]
          },
          "metadata": {},
          "execution_count": 169
        }
      ]
    },
    {
      "cell_type": "code",
      "source": [
        "helloDecimal = '555555555'"
      ],
      "metadata": {
        "id": "n-9h1wiXILNL"
      },
      "execution_count": 170,
      "outputs": []
    },
    {
      "cell_type": "code",
      "source": [
        "helloDecimal.isdecimal() # ได้ทั้งตัวเลข และ Decimal"
      ],
      "metadata": {
        "id": "GGqYsuzBILLC",
        "colab": {
          "base_uri": "https://localhost:8080/"
        },
        "outputId": "0d227219-fd68-49e3-9fc8-3895a64bb5e6"
      },
      "execution_count": 172,
      "outputs": [
        {
          "output_type": "execute_result",
          "data": {
            "text/plain": [
              "True"
            ]
          },
          "metadata": {},
          "execution_count": 172
        }
      ]
    },
    {
      "cell_type": "markdown",
      "source": [
        "## Validation Program"
      ],
      "metadata": {
        "id": "CMVyG1j7IYYa"
      }
    },
    {
      "cell_type": "code",
      "source": [
        "while True:\n",
        "    print('กรุณาระบุอายุของคุณ:')\n",
        "    age = input()\n",
        "    if age.isdecimal():\n",
        "        break\n",
        "    print('กรุณาระบุเป็นจำนวนเต็มครับ/ค่ะ')"
      ],
      "metadata": {
        "id": "7FKBGyGCILJC",
        "colab": {
          "base_uri": "https://localhost:8080/"
        },
        "outputId": "92536707-6171-4d57-8767-816eef25a731"
      },
      "execution_count": 174,
      "outputs": [
        {
          "name": "stdout",
          "output_type": "stream",
          "text": [
            "กรุณาระบุอายุของคุณ:\n",
            "24.5\n",
            "กรุณาระบุเป็นจำนวนเต็มครับ/ค่ะ\n",
            "กรุณาระบุอายุของคุณ:\n",
            "25\n"
          ]
        }
      ]
    },
    {
      "cell_type": "code",
      "source": [
        "while True:\n",
        "    print('กรุณาระบุพาสเวิร์ดใหม่(ใช้ตัวอักษรและตัวเลขร่วมกัน):')\n",
        "    password = input()\n",
        "    if password.isalnum():\n",
        "        break\n",
        "    print('พาสเวิร์ดต้องเป็นตัวอักษรและตัวเลขเท่านั้น')"
      ],
      "metadata": {
        "id": "MJycB7D4HhU8",
        "colab": {
          "base_uri": "https://localhost:8080/"
        },
        "outputId": "4a0d038a-8a7c-4e81-c5b0-21e857d06042"
      },
      "execution_count": 175,
      "outputs": [
        {
          "name": "stdout",
          "output_type": "stream",
          "text": [
            "กรุณาระบุพาสเวิร์ดใหม่(ใช้ตัวอักษรและตัวเลขร่วมกัน):\n",
            "123.4\n",
            "พาสเวิร์ดต้องเป็นตัวอักษรและตัวเลขเท่านั้น\n",
            "กรุณาระบุพาสเวิร์ดใหม่(ใช้ตัวอักษรและตัวเลขร่วมกัน):\n",
            "1234eiei\n"
          ]
        }
      ]
    },
    {
      "cell_type": "markdown",
      "source": [
        "## The join() and split() String Methods"
      ],
      "metadata": {
        "id": "YOowD-7FIj0d"
      }
    },
    {
      "cell_type": "code",
      "source": [
        "', '.join(['ชั้น', 'คือ', 'data scientist'])"
      ],
      "metadata": {
        "id": "eWRq76tGIiE0",
        "colab": {
          "base_uri": "https://localhost:8080/",
          "height": 36
        },
        "outputId": "25a09cdd-360f-4639-9c8e-48b28c414694"
      },
      "execution_count": 176,
      "outputs": [
        {
          "output_type": "execute_result",
          "data": {
            "text/plain": [
              "'ชั้น, คือ, data scientist'"
            ],
            "application/vnd.google.colaboratory.intrinsic+json": {
              "type": "string"
            }
          },
          "metadata": {},
          "execution_count": 176
        }
      ]
    },
    {
      "cell_type": "code",
      "source": [
        "','.join(['ชั้น', 'คือ', 'data scientist'])"
      ],
      "metadata": {
        "id": "XV9Pmoh4IiCR",
        "colab": {
          "base_uri": "https://localhost:8080/",
          "height": 36
        },
        "outputId": "ed02ccb5-ac6d-4bad-baf2-19bf761d7514"
      },
      "execution_count": 177,
      "outputs": [
        {
          "output_type": "execute_result",
          "data": {
            "text/plain": [
              "'ชั้น,คือ,data scientist'"
            ],
            "application/vnd.google.colaboratory.intrinsic+json": {
              "type": "string"
            }
          },
          "metadata": {},
          "execution_count": 177
        }
      ]
    },
    {
      "cell_type": "code",
      "source": [
        "' '.join(['ชั้น', 'คือ', 'data scientist'])"
      ],
      "metadata": {
        "id": "B7Qi6PGjIh8_",
        "colab": {
          "base_uri": "https://localhost:8080/",
          "height": 36
        },
        "outputId": "f01137a3-3cde-41c7-c4d2-b866a1d89d2a"
      },
      "execution_count": 178,
      "outputs": [
        {
          "output_type": "execute_result",
          "data": {
            "text/plain": [
              "'ชั้น คือ data scientist'"
            ],
            "application/vnd.google.colaboratory.intrinsic+json": {
              "type": "string"
            }
          },
          "metadata": {},
          "execution_count": 178
        }
      ]
    },
    {
      "cell_type": "code",
      "source": [
        "'ชั้น คือ data scientist'.split()"
      ],
      "metadata": {
        "id": "Vjb5vyjvIh6-",
        "colab": {
          "base_uri": "https://localhost:8080/"
        },
        "outputId": "80d6c979-9bd8-4ec1-8b47-5ae8d5905f8f"
      },
      "execution_count": 179,
      "outputs": [
        {
          "output_type": "execute_result",
          "data": {
            "text/plain": [
              "['ชั้น', 'คือ', 'data', 'scientist']"
            ]
          },
          "metadata": {},
          "execution_count": 179
        }
      ]
    },
    {
      "cell_type": "code",
      "source": [
        "'ชั้น คือ data scientist'.split('data')"
      ],
      "metadata": {
        "id": "NKyCFBnoIh5G",
        "colab": {
          "base_uri": "https://localhost:8080/"
        },
        "outputId": "5310baf5-c7e6-40da-a8bd-3dd43905c734"
      },
      "execution_count": 180,
      "outputs": [
        {
          "output_type": "execute_result",
          "data": {
            "text/plain": [
              "['ชั้น คือ ', ' scientist']"
            ]
          },
          "metadata": {},
          "execution_count": 180
        }
      ]
    },
    {
      "cell_type": "code",
      "source": [
        "message = \"\"\"แอบมองเธออยู่นะจ๊ะ\n",
        "แต่เธอไม่รู้บ้างเลย\n",
        "แอบส่งใจให้นิดๆ\n",
        "แต่ดูเธอช่างเฉยเมย\n",
        "เอาล่ะเตรียมใจไว้หน่อย\n",
        "มันจะหัวก้อยต้องเสี่ยงกัน\n",
        "Yeah Yeah Yeah\"\"\""
      ],
      "metadata": {
        "id": "Jq9wTdtiIh2_"
      },
      "execution_count": 181,
      "outputs": []
    },
    {
      "cell_type": "code",
      "source": [
        "message"
      ],
      "metadata": {
        "colab": {
          "base_uri": "https://localhost:8080/",
          "height": 36
        },
        "id": "0p_XwOhTIl2r",
        "outputId": "03e86f93-4eb2-4ab3-bb72-54ed70fe5e2d"
      },
      "execution_count": 183,
      "outputs": [
        {
          "output_type": "execute_result",
          "data": {
            "text/plain": [
              "'แอบมองเธออยู่นะจ๊ะ\\nแต่เธอไม่รู้บ้างเลย\\nแอบส่งใจให้นิดๆ\\nแต่ดูเธอช่างเฉยเมย\\nเอาล่ะเตรียมใจไว้หน่อย\\nมันจะหัวก้อยต้องเสี่ยงกัน\\nYeah Yeah Yeah'"
            ],
            "application/vnd.google.colaboratory.intrinsic+json": {
              "type": "string"
            }
          },
          "metadata": {},
          "execution_count": 183
        }
      ]
    },
    {
      "cell_type": "code",
      "source": [
        "# ตัดประโยคโดยใช้ split('\\n')\n",
        "message.split('\\n')"
      ],
      "metadata": {
        "id": "KiV-W8FYIh06",
        "colab": {
          "base_uri": "https://localhost:8080/"
        },
        "outputId": "51a6ebb1-9c43-4eb1-ab73-a8632f285813"
      },
      "execution_count": 184,
      "outputs": [
        {
          "output_type": "execute_result",
          "data": {
            "text/plain": [
              "['แอบมองเธออยู่นะจ๊ะ',\n",
              " 'แต่เธอไม่รู้บ้างเลย',\n",
              " 'แอบส่งใจให้นิดๆ',\n",
              " 'แต่ดูเธอช่างเฉยเมย',\n",
              " 'เอาล่ะเตรียมใจไว้หน่อย',\n",
              " 'มันจะหัวก้อยต้องเสี่ยงกัน',\n",
              " 'Yeah Yeah Yeah']"
            ]
          },
          "metadata": {},
          "execution_count": 184
        }
      ]
    },
    {
      "cell_type": "markdown",
      "source": [
        "## Justifying Text with rjust(), ljust(), and center()"
      ],
      "metadata": {
        "id": "V6-2_tytI6GY"
      }
    },
    {
      "cell_type": "code",
      "source": [
        "len('ประหยัด')"
      ],
      "metadata": {
        "id": "OvwiuOnKIhyx",
        "colab": {
          "base_uri": "https://localhost:8080/"
        },
        "outputId": "eee803e9-1932-49f6-e2e5-7b1cc0800ba0"
      },
      "execution_count": 185,
      "outputs": [
        {
          "output_type": "execute_result",
          "data": {
            "text/plain": [
              "7"
            ]
          },
          "metadata": {},
          "execution_count": 185
        }
      ]
    },
    {
      "cell_type": "code",
      "source": [
        "# สร้างที่ว่างด้านซ้าย 10 space\n",
        "'ประหยัด'.rjust(10,' ')"
      ],
      "metadata": {
        "id": "kuk9JKVDI79M",
        "colab": {
          "base_uri": "https://localhost:8080/",
          "height": 36
        },
        "outputId": "be5f7274-2ab5-4fa4-c08b-6ea7c8072669"
      },
      "execution_count": 187,
      "outputs": [
        {
          "output_type": "execute_result",
          "data": {
            "text/plain": [
              "'   ประหยัด'"
            ],
            "application/vnd.google.colaboratory.intrinsic+json": {
              "type": "string"
            }
          },
          "metadata": {},
          "execution_count": 187
        }
      ]
    },
    {
      "cell_type": "code",
      "source": [
        "'ประหยัด'.rjust(30)"
      ],
      "metadata": {
        "id": "F0MIW4_kI80q",
        "colab": {
          "base_uri": "https://localhost:8080/",
          "height": 36
        },
        "outputId": "e10a798f-858c-48d1-f401-206214b617b8"
      },
      "execution_count": 188,
      "outputs": [
        {
          "output_type": "execute_result",
          "data": {
            "text/plain": [
              "'                       ประหยัด'"
            ],
            "application/vnd.google.colaboratory.intrinsic+json": {
              "type": "string"
            }
          },
          "metadata": {},
          "execution_count": 188
        }
      ]
    },
    {
      "cell_type": "code",
      "source": [
        "'ประหยัด'.ljust(30,'*')"
      ],
      "metadata": {
        "id": "5TqLu2ibI9iQ",
        "colab": {
          "base_uri": "https://localhost:8080/",
          "height": 36
        },
        "outputId": "d34144da-2f3a-450f-ca2f-b1afd037d412"
      },
      "execution_count": 189,
      "outputs": [
        {
          "output_type": "execute_result",
          "data": {
            "text/plain": [
              "'ประหยัด***********************'"
            ],
            "application/vnd.google.colaboratory.intrinsic+json": {
              "type": "string"
            }
          },
          "metadata": {},
          "execution_count": 189
        }
      ]
    },
    {
      "cell_type": "code",
      "source": [
        "'ประหยัด'.center(20, '=')"
      ],
      "metadata": {
        "id": "8q3HSdEsI9gS",
        "colab": {
          "base_uri": "https://localhost:8080/",
          "height": 36
        },
        "outputId": "89ef0f46-0b18-4da2-d441-6e688b6e2756"
      },
      "execution_count": 190,
      "outputs": [
        {
          "output_type": "execute_result",
          "data": {
            "text/plain": [
              "'======ประหยัด======='"
            ],
            "application/vnd.google.colaboratory.intrinsic+json": {
              "type": "string"
            }
          },
          "metadata": {},
          "execution_count": 190
        }
      ]
    },
    {
      "cell_type": "markdown",
      "source": [
        "# Function 4"
      ],
      "metadata": {
        "id": "Nub_mSt_JE-E"
      }
    },
    {
      "cell_type": "code",
      "source": [
        "def printPicnic(itemsDict, leftWidth, rightWidth):\n",
        "    print('PICNIC ITEMS'.center(leftWidth + rightWidth, '-'))\n",
        "    for k, v in itemsDict.items():\n",
        "        print(k.ljust(leftWidth, '.') + str(v).rjust(rightWidth))"
      ],
      "metadata": {
        "id": "NQmgAMhiI9eY"
      },
      "execution_count": 191,
      "outputs": []
    },
    {
      "cell_type": "code",
      "source": [
        "picnicItems = {'sandwiches': 4, 'apples': 12, 'cups': 4, 'cookies': 8000}"
      ],
      "metadata": {
        "id": "ayvDAoL8I9cM"
      },
      "execution_count": 192,
      "outputs": []
    },
    {
      "cell_type": "code",
      "source": [
        "printPicnic(picnicItems, 12, 5)"
      ],
      "metadata": {
        "id": "Ij0XVkqiI9aD",
        "colab": {
          "base_uri": "https://localhost:8080/"
        },
        "outputId": "b18c7db3-9691-47af-a6df-104bfff6d2f4"
      },
      "execution_count": 193,
      "outputs": [
        {
          "output_type": "stream",
          "name": "stdout",
          "text": [
            "---PICNIC ITEMS--\n",
            "sandwiches..    4\n",
            "apples......   12\n",
            "cups........    4\n",
            "cookies..... 8000\n"
          ]
        }
      ]
    },
    {
      "cell_type": "code",
      "source": [
        "printPicnic(picnicItems, 20, 20)"
      ],
      "metadata": {
        "id": "7q9leg3zI9YG",
        "colab": {
          "base_uri": "https://localhost:8080/"
        },
        "outputId": "4c40c7b1-821a-485a-e3e7-80ee66b55ddc"
      },
      "execution_count": 194,
      "outputs": [
        {
          "output_type": "stream",
          "name": "stdout",
          "text": [
            "--------------PICNIC ITEMS--------------\n",
            "sandwiches..........                   4\n",
            "apples..............                  12\n",
            "cups................                   4\n",
            "cookies.............                8000\n"
          ]
        }
      ]
    },
    {
      "cell_type": "markdown",
      "source": [
        "## Removing Whitespace with strip(), rstrip(), and lstrip()"
      ],
      "metadata": {
        "id": "SQgwrtioJWCD"
      }
    },
    {
      "cell_type": "code",
      "source": [
        "helloSpace = '   Hello World!   '\n",
        "helloSpace"
      ],
      "metadata": {
        "id": "z2-wM-LtJQPt",
        "colab": {
          "base_uri": "https://localhost:8080/",
          "height": 36
        },
        "outputId": "8f5e00af-ab10-4bb5-88bd-0432cee71327"
      },
      "execution_count": 195,
      "outputs": [
        {
          "output_type": "execute_result",
          "data": {
            "text/plain": [
              "'   Hello World!   '"
            ],
            "application/vnd.google.colaboratory.intrinsic+json": {
              "type": "string"
            }
          },
          "metadata": {},
          "execution_count": 195
        }
      ]
    },
    {
      "cell_type": "code",
      "source": [
        "# ลบ space ซ้ายขวา\n",
        "helloSpace.strip()"
      ],
      "metadata": {
        "id": "3pGKGuCXJX8i",
        "colab": {
          "base_uri": "https://localhost:8080/",
          "height": 36
        },
        "outputId": "bcb3599b-90da-4129-87fb-407b66301128"
      },
      "execution_count": 200,
      "outputs": [
        {
          "output_type": "execute_result",
          "data": {
            "text/plain": [
              "'Hello World!'"
            ],
            "application/vnd.google.colaboratory.intrinsic+json": {
              "type": "string"
            }
          },
          "metadata": {},
          "execution_count": 200
        }
      ]
    },
    {
      "cell_type": "code",
      "source": [
        "helloSpace.lstrip()"
      ],
      "metadata": {
        "id": "unLzqtRBJX7B",
        "colab": {
          "base_uri": "https://localhost:8080/",
          "height": 36
        },
        "outputId": "b90f9436-cacb-4387-c487-fda456c2ee69"
      },
      "execution_count": 197,
      "outputs": [
        {
          "output_type": "execute_result",
          "data": {
            "text/plain": [
              "'Hello World!   '"
            ],
            "application/vnd.google.colaboratory.intrinsic+json": {
              "type": "string"
            }
          },
          "metadata": {},
          "execution_count": 197
        }
      ]
    },
    {
      "cell_type": "code",
      "source": [
        "helloSpace.rstrip()"
      ],
      "metadata": {
        "id": "LTPjkZwiJX4j",
        "colab": {
          "base_uri": "https://localhost:8080/",
          "height": 36
        },
        "outputId": "817ffc88-8bb5-480d-cb77-d0566ee095d6"
      },
      "execution_count": 198,
      "outputs": [
        {
          "output_type": "execute_result",
          "data": {
            "text/plain": [
              "'   Hello World!'"
            ],
            "application/vnd.google.colaboratory.intrinsic+json": {
              "type": "string"
            }
          },
          "metadata": {},
          "execution_count": 198
        }
      ]
    },
    {
      "cell_type": "code",
      "source": [
        "helloSpace.replace(\" \",\"\")"
      ],
      "metadata": {
        "id": "yACVVFieJX2s",
        "colab": {
          "base_uri": "https://localhost:8080/",
          "height": 36
        },
        "outputId": "839d4325-d889-4b66-a4fe-d061157b0ff1"
      },
      "execution_count": 199,
      "outputs": [
        {
          "output_type": "execute_result",
          "data": {
            "text/plain": [
              "'HelloWorld!'"
            ],
            "application/vnd.google.colaboratory.intrinsic+json": {
              "type": "string"
            }
          },
          "metadata": {},
          "execution_count": 199
        }
      ]
    },
    {
      "cell_type": "code",
      "source": [
        "foods = 'VetgeeBaconVetgeeEggsVetgeeVetgee'"
      ],
      "metadata": {
        "id": "Zz_Zk_WcJX1E"
      },
      "execution_count": 201,
      "outputs": []
    },
    {
      "cell_type": "code",
      "source": [
        "# เอา Vetgee ฝั่งซ้ายฝั่งขวาออก เหลือตรงกลาง\n",
        "foods.strip('Vetgee')"
      ],
      "metadata": {
        "id": "Ck-FwQbFJXy5",
        "colab": {
          "base_uri": "https://localhost:8080/",
          "height": 36
        },
        "outputId": "a3273d33-802c-4e8b-f945-a09c13230983"
      },
      "execution_count": 203,
      "outputs": [
        {
          "output_type": "execute_result",
          "data": {
            "text/plain": [
              "'BaconVetgeeEggs'"
            ],
            "application/vnd.google.colaboratory.intrinsic+json": {
              "type": "string"
            }
          },
          "metadata": {},
          "execution_count": 203
        }
      ]
    },
    {
      "cell_type": "code",
      "source": [
        "'BaconVetgeeEggs'.replace(\"Vetgee\",\"\")"
      ],
      "metadata": {
        "id": "Jfr6wogcJXXv",
        "colab": {
          "base_uri": "https://localhost:8080/",
          "height": 36
        },
        "outputId": "289ec0b7-5350-4731-dd7b-62f960a72b22"
      },
      "execution_count": 204,
      "outputs": [
        {
          "output_type": "execute_result",
          "data": {
            "text/plain": [
              "'BaconEggs'"
            ],
            "application/vnd.google.colaboratory.intrinsic+json": {
              "type": "string"
            }
          },
          "metadata": {},
          "execution_count": 204
        }
      ]
    },
    {
      "cell_type": "markdown",
      "source": [
        "<h1><center> WK01 - Basic Python Programming for New Data Scientist </center><h1/>\n",
        "\n",
        "<h3><center>  \"Road to Data Scientist with Machine Learning Projects #01\" 🎉 </center><h3/>\n",
        "<h1><center> Congratulations!! Your Python Skills Has Been Leveled Up 🎉🎉 </center><h1/>"
      ],
      "metadata": {
        "id": "i0M9tnVRJgNx"
      }
    }
  ]
}